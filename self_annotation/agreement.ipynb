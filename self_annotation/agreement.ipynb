{
 "cells": [
  {
   "cell_type": "code",
   "execution_count": 128,
   "id": "a329e5c3",
   "metadata": {},
   "outputs": [],
   "source": [
    "import numpy as np\n",
    "import pandas as pd\n",
    "import re\n",
    "import krippendorff\n",
    "from statsmodels.stats.inter_rater import fleiss_kappa\n",
    "from collections import defaultdict, Counter\n",
    "from itertools import combinations\n",
    "import matplotlib.pyplot as plt\n",
    "import seaborn as sns"
   ]
  },
  {
   "cell_type": "code",
   "execution_count": 83,
   "id": "d2a91915",
   "metadata": {},
   "outputs": [
    {
     "data": {
      "text/plain": [
       "'None'"
      ]
     },
     "execution_count": 83,
     "metadata": {},
     "output_type": "execute_result"
    }
   ],
   "source": [
    "#Fetching Data\n",
    "\n",
    "df_mikkel = pd.read_json(\"annotations_mikkel.json\")\n",
    "df_david = pd.read_json(\"annotations_david.json\")\n",
    "df_carl = pd.read_json(\"annotations_carl.json\")\n",
    "\n",
    "#Fix of dataframe\n",
    "def parse_label_string(label_str):\n",
    "    return re.findall(r\"'(.*?)'\", label_str)\n",
    "\n",
    "df_mikkel['original_label'] = df_mikkel['original_label'].apply(parse_label_string)\n",
    "\n",
    "#Check:\n",
    "df_mikkel[\"original_label\"].iloc[0][0]"
   ]
  },
  {
   "cell_type": "code",
   "execution_count": null,
   "id": "560d1aa7",
   "metadata": {},
   "outputs": [],
   "source": [
    "# Preparing data and setting variables \n",
    "\n",
    "num_encoder = {'None': 0,\n",
    "               'Minimal': 1,\n",
    "               'Basic': 2,\n",
    "               'Good': 3,\n",
    "               'Excellent': 4,\n",
    "               '❗ Problematic Content ❗': 0, # for security\n",
    "            }\n",
    "\n",
    "N = len(df_mikkel)\n",
    "R = 5 #number of ratings\n",
    "\n",
    "score_data = {}\n",
    "\n",
    "for i in range(len(df_mikkel)):\n",
    "    labels = [df_carl[\"our_label\"].iloc[i], df_mikkel[\"our_label\"].iloc[i], df_david[\"our_label\"].iloc[i]] + df_mikkel[\"original_label\"].iloc[i]\n",
    "    scores = [num_encoder[label] for label in labels]\n",
    "    id_ = df_mikkel[\"id\"].iloc[i]\n",
    "    score_data[id_] = scores #dict of lists"
   ]
  },
  {
   "cell_type": "markdown",
   "id": "09ea7196",
   "metadata": {},
   "source": [
    "____\n",
    "\n",
    "## Global aggreement: MSD and Krippendorffs $\\alpha$"
   ]
  },
  {
   "cell_type": "markdown",
   "id": "392b1da3",
   "metadata": {},
   "source": [
    "### MSD"
   ]
  },
  {
   "cell_type": "code",
   "execution_count": 136,
   "id": "edb1f0da",
   "metadata": {},
   "outputs": [
    {
     "data": {
      "text/plain": [
       "np.float64(1.2646666666666666)"
      ]
     },
     "execution_count": 136,
     "metadata": {},
     "output_type": "execute_result"
    }
   ],
   "source": [
    "\n",
    "def Mean_Squared_Diff(score_data): # --> list of lists\n",
    "\n",
    "    SD_list = []\n",
    "\n",
    "    for scores in score_data:\n",
    "        c = len(scores)\n",
    "        #The Squared Difference between unordered distinct pairs for one text:\n",
    "        SD = (2 / (c * (c - 1))) * sum(\n",
    "            (scores[j] - scores[k]) ** 2 \n",
    "            for j in range(c) \n",
    "            for k in range(j+1,c))\n",
    "        SD_list.append(SD)\n",
    "\n",
    "    return np.mean(SD_list)\n",
    "\n",
    "MSD = Mean_Squared_Diff(score_data.values())\n",
    "\n",
    "MSD"
   ]
  },
  {
   "cell_type": "markdown",
   "id": "73d573b5",
   "metadata": {},
   "source": [
    "### Krippendorff's $\\alpha$"
   ]
  },
  {
   "cell_type": "code",
   "execution_count": null,
   "id": "2579b14b",
   "metadata": {},
   "outputs": [
    {
     "data": {
      "text/plain": [
       "np.float64(0.44388382293447715)"
      ]
     },
     "execution_count": 109,
     "metadata": {},
     "output_type": "execute_result"
    }
   ],
   "source": [
    "# Alpha calculated with library\n",
    "def K_alpha(score_data,datatype):\n",
    "    reliability_data = np.array(score_data).T \n",
    "    alpha = krippendorff.alpha(reliability_data=reliability_data, level_of_measurement=datatype)\n",
    "    return alpha\n",
    "\n",
    "alpha = K_alpha(score_data.values(),\"ordinal\")\n",
    "alpha"
   ]
  },
  {
   "cell_type": "code",
   "execution_count": 87,
   "id": "a50ad0eb",
   "metadata": {},
   "outputs": [
    {
     "data": {
      "text/plain": [
       "np.float64(0.4401220957303449)"
      ]
     },
     "execution_count": 87,
     "metadata": {},
     "output_type": "execute_result"
    }
   ],
   "source": [
    "#Alpha calculated by hand:\n",
    "\n",
    "D_o = MSD\n",
    "\n",
    "# All annotation scores\n",
    "all_scores = np.asarray(score_data).flatten()\n",
    "\n",
    "\n",
    "label_counts = Counter(all_scores)  #dict\n",
    "labels = list(range(R))\n",
    "n_total = len(all_scores)  # total annotations\n",
    "\n",
    "# Calculate D_e\n",
    "De_numerator = 0\n",
    "for i in range(R):\n",
    "    for j in range(i + 1, R):\n",
    "        a = labels[i]\n",
    "        b = labels[j]\n",
    "        n_a = label_counts[a]\n",
    "        n_b = label_counts[b]\n",
    "        delta = (a - b) ** 2\n",
    "        De_numerator += n_a * n_b * delta\n",
    "\n",
    "D_e =  De_numerator * 2 / (n_total * (n_total - 1))\n",
    "\n",
    "alpha_simplifed = 1 - D_o / D_e\n",
    "alpha_simplifed"
   ]
  },
  {
   "cell_type": "code",
   "execution_count": 88,
   "id": "9f374381",
   "metadata": {},
   "outputs": [
    {
     "data": {
      "text/plain": [
       "np.float64(0.4344667633639848)"
      ]
     },
     "execution_count": 88,
     "metadata": {},
     "output_type": "execute_result"
    }
   ],
   "source": [
    "#Testing for equal results\n",
    "# --> for all distinct ordered pairs and normalized difference\n",
    "\n",
    "R = 5 #number of ratings\n",
    "\n",
    "SD_list = []\n",
    "\n",
    "for scores in score_data[1:]:\n",
    "    c = len(scores)\n",
    "    SD = (1 / (c * (c - 1))) * sum(\n",
    "        ((scores[j] - scores[k]) / (R - 1)) ** 2\n",
    "        for j in range(c)\n",
    "        for k in range(c)\n",
    "        if j != k\n",
    "    )\n",
    "    SD_list.append(SD)\n",
    "\n",
    "D_o = np.mean(SD_list)\n",
    "\n",
    "# All annotation scores\n",
    "all_scores = np.asarray(score_data).flatten()\n",
    "\n",
    "\n",
    "label_counts = Counter(all_scores)  #dict\n",
    "labels = list(range(R))\n",
    "n_total = len(all_scores)  # total annotations\n",
    "\n",
    "# Calculate D_e\n",
    "De_numerator = 0\n",
    "for i in range(R):\n",
    "    for j in range(R):\n",
    "        a = labels[i]\n",
    "        b = labels[j]\n",
    "        if a == b:\n",
    "            continue\n",
    "        n_a = label_counts[a]\n",
    "        n_b = label_counts[b]\n",
    "        delta = ((a - b) / (R-1)) ** 2\n",
    "        De_numerator += n_a * n_b * delta\n",
    "\n",
    "D_e =  De_numerator * 1 / (n_total * (n_total - 1))\n",
    "\n",
    "alpha_ordered = 1 - D_o / D_e\n",
    "alpha_ordered"
   ]
  },
  {
   "cell_type": "markdown",
   "id": "ae728952",
   "metadata": {},
   "source": [
    "We only see small differences in the output, which might be due to data structures used (lists vs matrices). For simplicity we will use the alpha from the library."
   ]
  },
  {
   "cell_type": "code",
   "execution_count": 93,
   "id": "5551a241",
   "metadata": {},
   "outputs": [],
   "source": [
    "def entropy(score_d):\n",
    "    H = []\n",
    "    for scores in score_d:\n",
    "        total = len(scores)\n",
    "        counts = Counter(scores)\n",
    "        probs = [count / total for count in counts.values()]\n",
    "        h_ = -sum(p * np.log2(p) for p in probs if p > 0)\n",
    "        H.append(h_)\n",
    "    return np.mean(H)\n",
    "\n",
    "def norm_entropy(score_d):\n",
    "    H = []\n",
    "    for scores in score_d:\n",
    "        total = len(scores)\n",
    "        counts = Counter(scores)\n",
    "        K = len(counts)\n",
    "        probs = [count / total for count in counts.values()]\n",
    "        h_norm = -sum(p * np.log2(p) for p in probs if p > 0) / np.log2(K) if K > 1 else 0.0\n",
    "        H.append(h_norm)\n",
    "    return np.mean(H)"
   ]
  },
  {
   "cell_type": "markdown",
   "id": "bd9ee51d",
   "metadata": {},
   "source": [
    "_______\n",
    "## Comparing annotators"
   ]
  },
  {
   "cell_type": "code",
   "execution_count": 94,
   "id": "5a8b7455",
   "metadata": {},
   "outputs": [
    {
     "data": {
      "text/plain": [
       "{'author': (np.float64(0.9666666666666666),\n",
       "  np.float64(0.560818764498379),\n",
       "  np.float64(0.701794542092149)),\n",
       " 'fineweb': (np.float64(1.6066666666666665),\n",
       "  np.float64(0.3381319866159098),\n",
       "  np.float64(0.7366967920488796)),\n",
       " 'all': (np.float64(1.2646666666666666),\n",
       "  np.float64(0.44388382293447715),\n",
       "  np.float64(0.8021084203403691))}"
      ]
     },
     "execution_count": 94,
     "metadata": {},
     "output_type": "execute_result"
    }
   ],
   "source": [
    "n = 3 #number of author annotators\n",
    "\n",
    "data = {\"author\": [scores[:n] for scores in score_data],\n",
    "        \"fineweb\": [scores[n:] for scores in score_data],\n",
    "        \"all\": score_data}\n",
    "\n",
    "agreement = {}\n",
    "for name,scores in data.items():\n",
    "    agreement[name] = (Mean_Squared_Diff(scores), K_alpha(scores), norm_entropy(scores))\n",
    "\n",
    "agreement"
   ]
  },
  {
   "cell_type": "code",
   "execution_count": null,
   "id": "a2a49902",
   "metadata": {},
   "outputs": [
    {
     "data": {
      "text/plain": [
       "(np.float64(0.0019335420818070834), np.float64(0.001032697563356851))"
      ]
     },
     "execution_count": 103,
     "metadata": {},
     "output_type": "execute_result"
    }
   ],
   "source": [
    "from scipy.stats import wilcoxon\n",
    "\n",
    "def Squared_diff_list(score_data): # --> list of lists\n",
    "\n",
    "    SD_list = []\n",
    "\n",
    "    for scores in score_data:\n",
    "        c = len(scores)\n",
    "        #The Squared Difference between unordered distinct pairs for one text:\n",
    "        SD = (2 / (c * (c - 1))) * sum(\n",
    "            (scores[j] - scores[k]) ** 2 \n",
    "            for j in range(c) \n",
    "            for k in range(j+1,c))\n",
    "        SD_list.append(SD)\n",
    "\n",
    "    return SD_list\n",
    "\n",
    "# Extract MSD values for each item (not just the mean)\n",
    "author_msd = Squared_diff_list(data[\"author\"])\n",
    "fineweb_msd = Squared_diff_list(data[\"fineweb\"])\n",
    "\n",
    "# Paired t-test\n",
    "wilcoxon_stat, wilcoxon_p = wilcoxon(author_msd, fineweb_msd)\n",
    "wilcoxon_p"
   ]
  },
  {
   "cell_type": "markdown",
   "id": "2fd7d914",
   "metadata": {},
   "source": [
    "___\n",
    "## Comparing classes\n",
    "We create pools for each annotation class, including all items where a specific class was annotated at least once."
   ]
  },
  {
   "cell_type": "code",
   "execution_count": 120,
   "id": "114b346a",
   "metadata": {},
   "outputs": [
    {
     "data": {
      "text/plain": [
       "np.float64(0.1653295604543263)"
      ]
     },
     "execution_count": 120,
     "metadata": {},
     "output_type": "execute_result"
    }
   ],
   "source": [
    "def K_fleiss(score_data):\n",
    "    table = []\n",
    "    for labels in score_data:\n",
    "        counts = Counter(labels)\n",
    "        row = [counts.get(cat, 0) for cat in range(R)]\n",
    "        table.append(row)\n",
    "    return fleiss_kappa(np.array(table))\n",
    "K_fleiss(score_data)"
   ]
  },
  {
   "cell_type": "code",
   "execution_count": 121,
   "id": "e8ba6d84",
   "metadata": {},
   "outputs": [
    {
     "name": "stdout",
     "output_type": "stream",
     "text": [
      "[[0, 0, 0, 0, 0, 0], [1, 0, 0, 0, 0, 2], [1, 0, 2, 2, 0, 0], [0, 0, 1, 0, 0, 0], [1, 0, 0, 0, 1, 0], [0, 0, 0, 1, 0, 1], [1, 0, 0, 0, 3, 0], [2, 1, 0, 2, 1, 3], [2, 2, 2, 0, 1, 3], [1, 1, 0, 1, 1, 0], [0, 0, 0, 0, 0, 1], [2, 0, 0, 2, 0, 0], [1, 0, 0, 1, 0, 1], [3, 2, 3, 0, 0, 2], [0, 0, 0, 0, 0, 0], [2, 1, 2, 0, 1, 3], [2, 0, 1, 0, 0, 0], [3, 1, 2, 1, 0, 3], [3, 2, 4, 0, 0, 1], [1, 0, 0, 1, 0, 2], [1, 0, 0, 0, 0, 0], [2, 0, 1, 3, 2, 1], [2, 3, 0, 1, 1, 1], [0, 0, 0, 0, 0, 1], [4, 1, 3, 3, 2, 0], [0, 0, 0, 0, 0, 0], [3, 1, 0, 0, 1, 2], [1, 0, 0, 0, 1, 0], [2, 0, 2, 0, 1, 3], [1, 0, 0, 0, 0, 0], [1, 0, 0, 0, 0, 1], [1, 0, 0, 1, 0, 0], [2, 2, 1, 0, 3, 1], [2, 1, 1, 1, 3, 0], [1, 1, 0, 0, 0, 0], [1, 0, 0, 1, 1, 1], [0, 0, 0, 0, 0, 0], [1, 0, 0, 1, 1, 0], [0, 0, 0, 0, 1, 0], [1, 3, 1, 1, 0, 0], [1, 0, 0, 0, 0, 0], [0, 0, 0, 0, 0, 0], [1, 2, 0, 1, 0, 2], [1, 0, 0, 0, 0, 0], [0, 0, 0, 0, 0, 0], [0, 1, 1, 0, 1, 0], [1, 1, 1, 0, 0, 0], [0, 0, 0, 0, 0, 1], [1, 1, 1, 1, 0, 1], [1, 1, 1, 0, 0, 1], [1, 1, 0, 1, 0, 0], [2, 1, 1, 0, 0, 1], [1, 0, 0, 1, 0, 2], [0, 1, 1, 2, 0, 0], [1, 1, 0, 1, 2, 0], [0, 0, 0, 1, 0, 1], [1, 0, 0, 1, 1, 0], [1, 1, 2, 0, 0, 1], [1, 2, 1, 1, 0, 0], [1, 1, 0, 0, 0, 1], [0, 0, 1, 0, 1, 1], [1, 1, 1, 1, 0, 2], [1, 1, 0, 1, 3, 0], [0, 1, 0, 1, 0, 0], [2, 1, 2, 0, 0, 3], [2, 2, 0, 1, 2, 2], [0, 0, 0, 0, 0, 0], [1, 1, 2, 0, 0, 1], [0, 1, 1, 0, 1, 1], [1, 2, 3, 0, 1, 0], [1, 0, 0, 0, 1, 0], [1, 1, 0, 0, 0, 2], [0, 0, 0, 0, 0, 0], [2, 2, 1, 0, 1, 2]]\n",
      "[[1, 3, 3, 2, 2, 1], [1, 0, 0, 0, 0, 2], [1, 0, 2, 2, 0, 0], [0, 0, 1, 0, 0, 0], [1, 0, 0, 0, 1, 0], [0, 0, 0, 1, 0, 1], [1, 0, 0, 0, 3, 0], [2, 1, 0, 2, 1, 3], [2, 2, 2, 0, 1, 3], [1, 1, 1, 1, 1, 1], [1, 1, 0, 1, 1, 0], [1, 1, 1, 1, 1, 1], [0, 0, 0, 0, 0, 1], [3, 1, 4, 3, 1, 2], [1, 0, 0, 1, 0, 1], [4, 2, 3, 2, 1, 4], [2, 2, 1, 1, 2, 1], [2, 1, 2, 0, 1, 3], [2, 0, 1, 0, 0, 0], [2, 1, 2, 2, 1, 2], [3, 1, 2, 1, 0, 3], [3, 2, 4, 0, 0, 1], [1, 0, 0, 1, 0, 2], [2, 1, 1, 1, 1, 4], [1, 0, 0, 0, 0, 0], [2, 0, 1, 3, 2, 1], [3, 1, 1, 2, 1, 2], [2, 3, 0, 1, 1, 1], [1, 2, 1, 1, 1, 1], [0, 0, 0, 0, 0, 1], [4, 1, 3, 3, 2, 0], [3, 1, 0, 0, 1, 2], [1, 0, 0, 0, 1, 0], [2, 0, 2, 0, 1, 3], [1, 0, 0, 0, 0, 0], [1, 0, 0, 0, 0, 1], [3, 1, 2, 2, 1, 4], [2, 2, 1, 1, 1, 2], [2, 1, 2, 2, 3, 1], [1, 0, 0, 1, 0, 0], [2, 2, 1, 0, 3, 1], [2, 1, 1, 1, 3, 0], [2, 2, 2, 2, 1, 3], [2, 2, 2, 1, 1, 3], [1, 1, 0, 0, 0, 0], [2, 1, 1, 1, 3, 1], [1, 0, 0, 1, 1, 1], [2, 2, 2, 1, 1, 4], [1, 0, 0, 1, 1, 0], [0, 0, 0, 0, 1, 0], [1, 3, 1, 1, 0, 0], [1, 0, 0, 0, 0, 0], [1, 2, 0, 1, 0, 2], [1, 0, 0, 0, 0, 0], [1, 1, 2, 2, 3, 1], [0, 1, 1, 0, 1, 0], [1, 1, 1, 0, 0, 0], [0, 0, 0, 0, 0, 1], [1, 1, 1, 1, 0, 1], [1, 1, 1, 0, 0, 1], [1, 1, 0, 1, 0, 0], [2, 1, 1, 0, 0, 1], [1, 0, 0, 1, 0, 2], [0, 1, 1, 2, 0, 0], [1, 1, 0, 1, 2, 0], [0, 0, 0, 1, 0, 1], [1, 0, 0, 1, 1, 0], [1, 1, 2, 0, 0, 1], [1, 2, 1, 1, 0, 0], [1, 1, 0, 0, 0, 1], [0, 0, 1, 0, 1, 1], [1, 1, 1, 1, 0, 2], [1, 1, 0, 1, 3, 0], [0, 1, 0, 1, 0, 0], [1, 2, 2, 2, 1, 3], [2, 1, 2, 0, 0, 3], [2, 3, 2, 1, 4, 1], [2, 2, 0, 1, 2, 2], [1, 1, 2, 0, 0, 1], [0, 1, 1, 0, 1, 1], [1, 2, 3, 0, 1, 0], [1, 2, 4, 3, 1, 3], [1, 0, 0, 0, 1, 0], [1, 1, 0, 0, 0, 2], [2, 2, 1, 0, 1, 2]]\n",
      "[[1, 3, 3, 2, 2, 1], [1, 0, 0, 0, 0, 2], [1, 0, 2, 2, 0, 0], [2, 3, 3, 2, 4, 2], [2, 1, 0, 2, 1, 3], [2, 2, 2, 0, 1, 3], [3, 1, 4, 3, 1, 2], [2, 0, 0, 2, 0, 0], [4, 2, 3, 2, 1, 4], [3, 2, 3, 0, 0, 2], [2, 2, 1, 1, 2, 1], [2, 1, 2, 0, 1, 3], [2, 0, 1, 0, 0, 0], [2, 1, 2, 2, 1, 2], [3, 1, 2, 1, 0, 3], [3, 2, 4, 0, 0, 1], [1, 0, 0, 1, 0, 2], [2, 1, 1, 1, 1, 4], [2, 0, 1, 3, 2, 1], [3, 1, 1, 2, 1, 2], [2, 3, 0, 1, 1, 1], [1, 2, 1, 1, 1, 1], [4, 1, 3, 3, 2, 0], [3, 1, 0, 0, 1, 2], [2, 0, 2, 0, 1, 3], [3, 1, 2, 2, 1, 4], [2, 2, 1, 1, 1, 2], [2, 1, 2, 2, 3, 1], [4, 3, 3, 2, 2, 3], [2, 2, 1, 0, 3, 1], [3, 4, 2, 2, 2, 2], [2, 1, 1, 1, 3, 0], [2, 2, 2, 2, 1, 3], [3, 3, 2, 4, 2, 4], [2, 2, 2, 1, 1, 3], [2, 1, 1, 1, 3, 1], [2, 2, 2, 1, 1, 4], [1, 2, 0, 1, 0, 2], [1, 1, 2, 2, 3, 1], [2, 1, 1, 0, 0, 1], [1, 0, 0, 1, 0, 2], [0, 1, 1, 2, 0, 0], [1, 1, 0, 1, 2, 0], [1, 1, 2, 0, 0, 1], [1, 2, 1, 1, 0, 0], [1, 1, 1, 1, 0, 2], [1, 2, 2, 2, 1, 3], [2, 1, 2, 0, 0, 3], [2, 3, 2, 1, 4, 1], [2, 2, 0, 1, 2, 2], [1, 1, 2, 0, 0, 1], [1, 2, 3, 0, 1, 0], [1, 2, 4, 3, 1, 3], [1, 1, 0, 0, 0, 2], [3, 3, 3, 3, 2, 4], [2, 2, 1, 0, 1, 2]]\n",
      "[[1, 3, 3, 2, 2, 1], [2, 3, 3, 2, 4, 2], [1, 0, 0, 0, 3, 0], [2, 1, 0, 2, 1, 3], [2, 2, 2, 0, 1, 3], [3, 1, 4, 3, 1, 2], [4, 2, 3, 2, 1, 4], [3, 2, 3, 0, 0, 2], [2, 1, 2, 0, 1, 3], [3, 1, 2, 1, 0, 3], [3, 2, 4, 0, 0, 1], [2, 0, 1, 3, 2, 1], [3, 1, 1, 2, 1, 2], [2, 3, 0, 1, 1, 1], [4, 1, 3, 3, 2, 0], [3, 1, 0, 0, 1, 2], [2, 0, 2, 0, 1, 3], [3, 1, 2, 2, 1, 4], [2, 1, 2, 2, 3, 1], [4, 3, 3, 2, 2, 3], [2, 2, 1, 0, 3, 1], [3, 4, 2, 2, 2, 2], [2, 1, 1, 1, 3, 0], [2, 2, 2, 2, 1, 3], [3, 3, 2, 4, 2, 4], [2, 2, 2, 1, 1, 3], [2, 1, 1, 1, 3, 1], [1, 3, 1, 1, 0, 0], [1, 1, 2, 2, 3, 1], [1, 1, 0, 1, 3, 0], [1, 2, 2, 2, 1, 3], [2, 1, 2, 0, 0, 3], [2, 3, 2, 1, 4, 1], [1, 2, 3, 0, 1, 0], [1, 2, 4, 3, 1, 3], [3, 3, 3, 3, 2, 4]]\n",
      "[[2, 3, 3, 2, 4, 2], [3, 1, 4, 3, 1, 2], [4, 2, 3, 2, 1, 4], [3, 2, 4, 0, 0, 1], [2, 1, 1, 1, 1, 4], [4, 1, 3, 3, 2, 0], [3, 1, 2, 2, 1, 4], [4, 3, 3, 2, 2, 3], [3, 4, 2, 2, 2, 2], [3, 3, 2, 4, 2, 4], [2, 2, 2, 1, 1, 4], [2, 3, 2, 1, 4, 1], [1, 2, 4, 3, 1, 3], [3, 3, 3, 3, 2, 4]]\n"
     ]
    },
    {
     "data": {
      "text/plain": [
       "{0: (np.float64(1.1981981981981982),\n",
       "  np.float64(0.2003480792500809),\n",
       "  np.float64(0.07726881007623465),\n",
       "  np.float64(0.7909915553617455)),\n",
       " 1: (np.float64(1.3450980392156862),\n",
       "  np.float64(0.31841848653781846),\n",
       "  np.float64(0.08317666559131401),\n",
       "  np.float64(0.8690814866384483)),\n",
       " 2: (np.float64(1.851190476190476),\n",
       "  np.float64(0.2062311439435841),\n",
       "  np.float64(0.006629493415589061),\n",
       "  np.float64(0.913247182522742)),\n",
       " 3: (np.float64(2.25),\n",
       "  np.float64(0.1029584860927929),\n",
       "  np.float64(-0.036157873993581384),\n",
       "  np.float64(0.924729706827827)),\n",
       " 4: (np.float64(2.5380952380952375),\n",
       "  np.float64(-0.016476265576985005),\n",
       "  np.float64(-0.037813552976413346),\n",
       "  np.float64(0.9190083670317268))}"
      ]
     },
     "execution_count": 121,
     "metadata": {},
     "output_type": "execute_result"
    }
   ],
   "source": [
    "agreement_pools = {}\n",
    "for i in range(R):\n",
    "    pool = [scores for scores in data[\"all\"] if i in scores]\n",
    "    agreement_pools[i] = (Mean_Squared_Diff(pool), K_alpha(pool,\"ordinal\"),K_fleiss(pool),norm_entropy(pool))\n",
    "    print(pool)\n",
    "\n",
    "agreement_pools"
   ]
  },
  {
   "cell_type": "code",
   "execution_count": 127,
   "id": "dbd4b546",
   "metadata": {},
   "outputs": [
    {
     "data": {
      "image/png": "[encoded data removed]",
      "text/plain": [
       "<Figure size 800x500 with 1 Axes>"
      ]
     },
     "metadata": {},
     "output_type": "display_data"
    }
   ],
   "source": [
    "import matplotlib.pyplot as plt\n",
    "import seaborn as sns\n",
    "\n",
    "sns.set(style=\"whitegrid\")\n",
    "\n",
    "bins = [x - 0.5 for x in range(6)]\n",
    "\n",
    "# Plot\n",
    "plt.figure(figsize=(8, 5))\n",
    "plt.hist(all_scores, bins=bins, edgecolor='black', color='skyblue', rwidth=0.9,)\n",
    "\n",
    "# Customize axes\n",
    "plt.xticks(range(5)) \n",
    "plt.xlabel('Annotation Score')\n",
    "plt.ylabel('Frequency')\n",
    "\n",
    "# Clean layout\n",
    "plt.tight_layout()\n",
    "plt.show()"
   ]
  }
 ],
 "metadata": {
  "kernelspec": {
   "display_name": "FP25",
   "language": "python",
   "name": "python3"
  },
  "language_info": {
   "codemirror_mode": {
    "name": "ipython",
    "version": 3
   },
   "file_extension": ".py",
   "mimetype": "text/x-python",
   "name": "python",
   "nbconvert_exporter": "python",
   "pygments_lexer": "ipython3",
   "version": "3.11.11"
  }
 },
 "nbformat": 4,
 "nbformat_minor": 5
}
