{
 "cells": [
  {
   "cell_type": "code",
   "execution_count": 15,
   "id": "a329e5c3",
   "metadata": {},
   "outputs": [],
   "source": [
    "import numpy as np\n",
    "import pandas as pd\n",
    "import re\n",
    "import krippendorff\n",
    "from collections import defaultdict, Counter\n",
    "from itertools import combinations"
   ]
  },
  {
   "cell_type": "code",
   "execution_count": null,
   "id": "d2a91915",
   "metadata": {},
   "outputs": [
    {
     "data": {
      "text/plain": [
       "'None'"
      ]
     },
     "execution_count": 16,
     "metadata": {},
     "output_type": "execute_result"
    }
   ],
   "source": [
    "df_mikkel = pd.read_json(\"annotations_mikkel.json\")\n",
    "df_david = pd.read_json(\"annotations_david.json\")\n",
    "\n",
    "#Fix of dataframe\n",
    "def parse_label_string(label_str):\n",
    "    return re.findall(r\"'(.*?)'\", label_str)\n",
    "\n",
    "df_mikkel['original_label'] = df_mikkel['original_label'].apply(parse_label_string)\n",
    "\n",
    "#Check:\n",
    "df_mikkel[\"original_label\"].iloc[0][0]"
   ]
  },
  {
   "cell_type": "code",
   "execution_count": 17,
   "id": "560d1aa7",
   "metadata": {},
   "outputs": [],
   "source": [
    "num_encoder = {'None': 0,\n",
    "               'Minimal': 1,\n",
    "               'Basic': 2,\n",
    "               'Good': 3,\n",
    "               'Excellent': 4}\n",
    "\n",
    "N = len(df_mikkel)\n",
    "score_data = []\n",
    "\n",
    "for i in range(len(df_mikkel)):\n",
    "    labels = [df_mikkel[\"our_label\"].iloc[i]] + [df_david[\"our_label\"].iloc[i]] + df_mikkel[\"original_label\"].iloc[i]\n",
    "    scores = [num_encoder[label] for label in labels]\n",
    "    score_data.append(scores) #list of lists"
   ]
  },
  {
   "cell_type": "code",
   "execution_count": null,
   "id": "edb1f0da",
   "metadata": {},
   "outputs": [
    {
     "data": {
      "text/plain": [
       "np.float64(1.3060000000000003)"
      ]
     },
     "execution_count": 18,
     "metadata": {},
     "output_type": "execute_result"
    }
   ],
   "source": [
    "R = 5 #number of ratings\n",
    "\n",
    "SD_list = []\n",
    "\n",
    "for scores in score_data:\n",
    "    c = len(scores)\n",
    "    #The Squared Difference between unordered distinct pairs for one text:\n",
    "    SD = (2 / (c * (c - 1))) * sum(\n",
    "        (scores[j] - scores[k]) ** 2 \n",
    "        for j in range(c) \n",
    "        for k in range(j+1,c))\n",
    "    SD_list.append(SD)\n",
    "\n",
    "MSD = np.mean(SD_list)\n",
    "MSD\n"
   ]
  },
  {
   "cell_type": "code",
   "execution_count": 19,
   "id": "2579b14b",
   "metadata": {},
   "outputs": [
    {
     "data": {
      "text/plain": [
       "np.float64(0.4186097634730207)"
      ]
     },
     "execution_count": 19,
     "metadata": {},
     "output_type": "execute_result"
    }
   ],
   "source": [
    "reliability_data = np.array(score_data).T \n",
    "alpha = krippendorff.alpha(reliability_data=reliability_data, level_of_measurement='ordinal')\n",
    "alpha"
   ]
  },
  {
   "cell_type": "code",
   "execution_count": null,
   "id": "a50ad0eb",
   "metadata": {},
   "outputs": [
    {
     "data": {
      "text/plain": [
       "np.float64(0.4111397446833117)"
      ]
     },
     "execution_count": 20,
     "metadata": {},
     "output_type": "execute_result"
    }
   ],
   "source": [
    "D_o = MSD\n",
    "\n",
    "# All annotation scores\n",
    "all_scores = np.asarray(score_data).flatten()\n",
    "\n",
    "\n",
    "label_counts = Counter(all_scores)  #dict\n",
    "labels = list(range(R))\n",
    "n_total = len(all_scores)  # total annotations\n",
    "\n",
    "# Calculate D_e\n",
    "De_numerator = 0\n",
    "for i in range(R):\n",
    "    for j in range(i + 1, R):\n",
    "        a = labels[i]\n",
    "        b = labels[j]\n",
    "        n_a = label_counts[a]\n",
    "        n_b = label_counts[b]\n",
    "        delta = (a - b) ** 2\n",
    "        De_numerator += n_a * n_b * delta\n",
    "\n",
    "D_e =  De_numerator * 2 / (n_total * (n_total - 1))\n",
    "\n",
    "alpha_simplifed = 1 - D_o / D_e\n",
    "alpha_simplifed"
   ]
  },
  {
   "cell_type": "code",
   "execution_count": null,
   "id": "9f374381",
   "metadata": {},
   "outputs": [
    {
     "data": {
      "text/plain": [
       "np.float64(0.4051916612962747)"
      ]
     },
     "execution_count": 21,
     "metadata": {},
     "output_type": "execute_result"
    }
   ],
   "source": [
    "#Testing for all distinct ordered pairs and normalized difference\n",
    "\n",
    "R = 5 #number of ratings\n",
    "\n",
    "SD_list = []\n",
    "\n",
    "for scores in score_data[1:]:\n",
    "    c = len(scores)\n",
    "    SD = (1 / (c * (c - 1))) * sum(\n",
    "        ((scores[j] - scores[k]) / (R - 1)) ** 2\n",
    "        for j in range(c)\n",
    "        for k in range(c)\n",
    "        if j != k\n",
    "    )\n",
    "    SD_list.append(SD)\n",
    "\n",
    "D_o = np.mean(SD_list)\n",
    "\n",
    "# All annotation scores\n",
    "all_scores = np.asarray(score_data).flatten()\n",
    "\n",
    "\n",
    "label_counts = Counter(all_scores)  #dict\n",
    "labels = list(range(R))\n",
    "n_total = len(all_scores)  # total annotations\n",
    "\n",
    "# Calculate D_e\n",
    "De_numerator = 0\n",
    "for i in range(R):\n",
    "    for j in range(R):\n",
    "        a = labels[i]\n",
    "        b = labels[j]\n",
    "        if a == b:\n",
    "            continue\n",
    "        n_a = label_counts[a]\n",
    "        n_b = label_counts[b]\n",
    "        delta = ((a - b) / (R-1)) ** 2\n",
    "        De_numerator += n_a * n_b * delta\n",
    "\n",
    "D_e =  De_numerator * 1 / (n_total * (n_total - 1))\n",
    "\n",
    "alpha_ordered = 1 - D_o / D_e\n",
    "alpha_ordered"
   ]
  }
 ],
 "metadata": {
  "kernelspec": {
   "display_name": "FP25",
   "language": "python",
   "name": "python3"
  },
  "language_info": {
   "codemirror_mode": {
    "name": "ipython",
    "version": 3
   },
   "file_extension": ".py",
   "mimetype": "text/x-python",
   "name": "python",
   "nbconvert_exporter": "python",
   "pygments_lexer": "ipython3",
   "version": "3.11.11"
  }
 },
 "nbformat": 4,
 "nbformat_minor": 5
}
