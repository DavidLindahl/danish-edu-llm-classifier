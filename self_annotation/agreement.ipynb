{
 "cells": [
  {
   "cell_type": "code",
   "execution_count": 128,
   "id": "a329e5c3",
   "metadata": {},
   "outputs": [],
   "source": [
    "import numpy as np\n",
    "import pandas as pd\n",
    "import re\n",
    "import krippendorff\n",
    "from statsmodels.stats.inter_rater import fleiss_kappa\n",
    "from collections import defaultdict, Counter\n",
    "from itertools import combinations\n",
    "import matplotlib.pyplot as plt\n",
    "import seaborn as sns"
   ]
  },
  {
   "cell_type": "code",
   "execution_count": 299,
   "id": "d2a91915",
   "metadata": {},
   "outputs": [
    {
     "data": {
      "text/plain": [
       "'None'"
      ]
     },
     "execution_count": 299,
     "metadata": {},
     "output_type": "execute_result"
    }
   ],
   "source": [
    "#Fetching Data\n",
    "\n",
    "df_mikkel = pd.read_json(\"annotations_mikkel.json\")\n",
    "df_david = pd.read_json(\"annotations_david.json\")\n",
    "df_carl = pd.read_json(\"annotations_carl.json\")\n",
    "\n",
    "#Fix of dataframe\n",
    "def parse_label_string(label_str):\n",
    "    return re.findall(r\"'(.*?)'\", label_str)\n",
    "\n",
    "df_mikkel['original_label'] = df_mikkel['original_label'].apply(parse_label_string)\n",
    "\n",
    "#Check:\n",
    "df_mikkel[\"original_label\"].iloc[0][0]"
   ]
  },
  {
   "cell_type": "code",
   "execution_count": 300,
   "id": "560d1aa7",
   "metadata": {},
   "outputs": [],
   "source": [
    "# Preparing data and setting variables \n",
    "\n",
    "num_encoder = {'None': 0,\n",
    "               'Minimal': 1,\n",
    "               'Basic': 2,\n",
    "               'Good': 3,\n",
    "               'Excellent': 4,\n",
    "               '❗ Problematic Content ❗': 0, # for security\n",
    "            }\n",
    "\n",
    "N = len(df_mikkel)\n",
    "R = 5 #number of ratings\n",
    "\n",
    "score_dict = {}\n",
    "score_data = []\n",
    "\n",
    "for i in range(len(df_mikkel)):\n",
    "    labels = [df_carl[\"our_label\"].iloc[i], df_mikkel[\"our_label\"].iloc[i], df_david[\"our_label\"].iloc[i]] + df_mikkel[\"original_label\"].iloc[i]\n",
    "    scores = [num_encoder[label] for label in labels]\n",
    "    id_ = df_mikkel[\"id\"].iloc[i]\n",
    "    score_dict[id_] = scores #dict of lists\n",
    "    score_data.append(scores) # list of lists"
   ]
  },
  {
   "cell_type": "markdown",
   "id": "09ea7196",
   "metadata": {},
   "source": [
    "____\n",
    "\n",
    "## Global aggreement: MSD and Krippendorffs $\\alpha$"
   ]
  },
  {
   "cell_type": "markdown",
   "id": "392b1da3",
   "metadata": {},
   "source": [
    "### MSD"
   ]
  },
  {
   "cell_type": "code",
   "execution_count": 248,
   "id": "edb1f0da",
   "metadata": {},
   "outputs": [
    {
     "data": {
      "text/plain": [
       "np.float64(1.2646666666666666)"
      ]
     },
     "execution_count": 248,
     "metadata": {},
     "output_type": "execute_result"
    }
   ],
   "source": [
    "\n",
    "def Mean_Squared_Diff(score_data): # <-- list of lists\n",
    "\n",
    "    SD_list = []\n",
    "\n",
    "    for scores in score_data:\n",
    "        c = len(scores)\n",
    "        #The Squared Difference between unordered distinct pairs for one text:\n",
    "        SD = (2 / (c * (c - 1))) * sum(\n",
    "            (scores[j] - scores[k]) ** 2 \n",
    "            for j in range(c) \n",
    "            for k in range(j+1,c))\n",
    "        SD_list.append(SD)\n",
    "\n",
    "    return np.mean(SD_list)\n",
    "\n",
    "MSD = np.mean(Mean_Squared_Diff(score_data))\n",
    "\n",
    "MSD"
   ]
  },
  {
   "cell_type": "markdown",
   "id": "73d573b5",
   "metadata": {},
   "source": [
    "### Krippendorff's $\\alpha$"
   ]
  },
  {
   "cell_type": "code",
   "execution_count": 249,
   "id": "2579b14b",
   "metadata": {},
   "outputs": [
    {
     "data": {
      "text/plain": [
       "np.float64(0.4401220957303449)"
      ]
     },
     "execution_count": 249,
     "metadata": {},
     "output_type": "execute_result"
    }
   ],
   "source": [
    "# Alpha calculated with library\n",
    "def K_alpha(score_data,datatype):\n",
    "    reliability_data = np.array(score_data).T \n",
    "    alpha = krippendorff.alpha(reliability_data=reliability_data, value_domain=list(range(R)), level_of_measurement=datatype)\n",
    "    return alpha\n",
    "\n",
    "alpha = K_alpha(score_data,\"interval\")\n",
    "alpha"
   ]
  },
  {
   "cell_type": "code",
   "execution_count": 247,
   "id": "a50ad0eb",
   "metadata": {},
   "outputs": [
    {
     "data": {
      "text/plain": [
       "np.float64(0.4401220957303449)"
      ]
     },
     "execution_count": 247,
     "metadata": {},
     "output_type": "execute_result"
    }
   ],
   "source": [
    "#Alpha calculated by hand assuming equal intervals:\n",
    "\n",
    "D_o = MSD\n",
    "\n",
    "# All annotation scores\n",
    "all_scores = np.asarray(score_data).flatten()\n",
    "\n",
    "\n",
    "label_counts = Counter(all_scores)  #dict\n",
    "labels = list(range(R))\n",
    "n_total = len(all_scores)  # total annotations\n",
    "\n",
    "# Calculate D_e\n",
    "De_numerator = 0\n",
    "for i in range(R):\n",
    "    for j in range(i + 1, R):\n",
    "        a = labels[i]\n",
    "        b = labels[j]\n",
    "        n_a = label_counts[a]\n",
    "        n_b = label_counts[b]\n",
    "        delta = (a - b) ** 2\n",
    "        De_numerator += n_a * n_b * delta\n",
    "\n",
    "D_e =  De_numerator * 2 / (n_total * (n_total - 1))\n",
    "\n",
    "alpha_simplifed = 1 - D_o / D_e\n",
    "alpha_simplifed"
   ]
  },
  {
   "cell_type": "code",
   "execution_count": null,
   "id": "abb98f81",
   "metadata": {},
   "outputs": [
    {
     "name": "stdout",
     "output_type": "stream",
     "text": [
      "alpha (interval): 0.4401220957303449\n",
      "alpha (ordinal): 0.44388382293447715\n",
      "Difference (alpha - alpha_ordinal): -0.003761727204132259\n"
     ]
    }
   ],
   "source": [
    "#Comparing to ordinal delta function\n",
    "alpha_ordinal = K_alpha(score_data, \"ordinal\")\n",
    "diff_alpha = alpha - alpha_ordinal\n",
    "\n",
    "print(f\"alpha (interval): {alpha}\")\n",
    "print(f\"alpha (ordinal): {alpha_ordinal}\")\n",
    "print(f\"Difference (alpha - alpha_ordinal): {diff_alpha}\")"
   ]
  },
  {
   "cell_type": "markdown",
   "id": "bd9ee51d",
   "metadata": {},
   "source": [
    "_______\n",
    "## Comparing annotator-groups"
   ]
  },
  {
   "cell_type": "code",
   "execution_count": 302,
   "id": "5a8b7455",
   "metadata": {},
   "outputs": [
    {
     "data": {
      "text/plain": [
       "{'author': (np.float64(0.9666666666666666),\n",
       "  np.float64(0.560818764498379),\n",
       "  np.float64(1.106666666666667)),\n",
       " 'fineweb': (np.float64(1.6066666666666665),\n",
       "  np.float64(0.3381319866159098),\n",
       "  np.float64(0.9500000000000002)),\n",
       " 'all': (np.float64(1.2646666666666666),\n",
       "  np.float64(0.44388382293447715),\n",
       "  np.float64(1.0283333333333333))}"
      ]
     },
     "execution_count": 302,
     "metadata": {},
     "output_type": "execute_result"
    }
   ],
   "source": [
    "n = 3 #number of author annotators\n",
    "\n",
    "data = {\"author\": [scores[:n] for scores in score_data],\n",
    "        \"fineweb\": [scores[n:] for scores in score_data],\n",
    "        \"all\": score_data}\n",
    "\n",
    "agreement = {}\n",
    "for name,list_score in data.items():\n",
    "    agreement[name] = (Mean_Squared_Diff(list_score), \n",
    "                       K_alpha(list_score, \"ordinal\"),\n",
    "                       np.mean([np.mean(scores) for scores in list_score])\n",
    "                       )\n",
    "agreement"
   ]
  },
  {
   "cell_type": "markdown",
   "id": "f9c1af76",
   "metadata": {},
   "source": [
    "### Statistic tests"
   ]
  },
  {
   "cell_type": "code",
   "execution_count": null,
   "id": "f6489dc5",
   "metadata": {},
   "outputs": [
    {
     "name": "stdout",
     "output_type": "stream",
     "text": [
      "Shapiro-Wilk p 'author' = 5.730903158670814e-13\n",
      "Shapiro-Wilk p 'fineweb' = 2.761921713048834e-10\n"
     ]
    }
   ],
   "source": [
    "# Normality for MSD\n",
    "from scipy.stats import shapiro\n",
    "\n",
    "# first we define the MSD function:\n",
    "def Squared_diff_list(score_data): # <-- list of lists\n",
    "\n",
    "    SD_list = []\n",
    "    for scores in score_data:\n",
    "        c = len(scores)\n",
    "        #The Squared Difference between unordered distinct pairs for one text:\n",
    "        SD = (2 / (c * (c - 1))) * sum(\n",
    "            (scores[j] - scores[k]) ** 2 \n",
    "            for j in range(c) \n",
    "            for k in range(j+1,c))\n",
    "        SD_list.append(SD)\n",
    "\n",
    "    return SD_list\n",
    "\n",
    "# Shapiro Wilk\n",
    "stat, p_aut = shapiro(Squared_diff_list(data[\"author\"]))\n",
    "print(f\"Shapiro-Wilk p 'author' = {p_aut}\")\n",
    "\n",
    "stat, p_fine = shapiro(Squared_diff_list(data[\"fineweb\"]))\n",
    "print(f\"Shapiro-Wilk p 'fineweb' = {p_fine}\")"
   ]
  },
  {
   "cell_type": "code",
   "execution_count": 319,
   "id": "4ce8d717",
   "metadata": {},
   "outputs": [],
   "source": [
    "def hist_dist(sample1, sample2, name1, name2, type):\n",
    "    sns.set(style=\"whitegrid\")\n",
    "    \n",
    "    bins = [0.5 * x - 0.5 for x in range(16)]\n",
    "\n",
    "    if type == \"msd\":\n",
    "        list1 = Squared_diff_list(sample1)\n",
    "        list2 = Squared_diff_list(sample2)\n",
    "\n",
    "    elif type == \"mean\":\n",
    "        list1 = [np.mean(scores) for scores in sample1]\n",
    "        if sample2[0] is float:\n",
    "            list2 = sample2\n",
    "        else:\n",
    "            list2 = [np.mean(scores) for scores in sample2]\n",
    "        \n",
    "\n",
    "    # Plot\n",
    "    plt.figure(figsize=(8, 5))\n",
    "    plt.hist(list1, bins=bins, edgecolor='black', color='skyblue', alpha=0.5, label=name1, rwidth=0.9)\n",
    "    plt.hist(list2, bins=bins, edgecolor='black', color='salmon', alpha=0.5, label=name2, rwidth=0.9)\n",
    "\n",
    "    # Customize axes\n",
    "    plt.xlabel(type.upper() + ' Values')\n",
    "    plt.ylabel('Frequency')\n",
    "    plt.legend()\n",
    "    \n",
    "    # Clean layout\n",
    "    plt.tight_layout()\n",
    "    plt.show()"
   ]
  },
  {
   "cell_type": "code",
   "execution_count": 259,
   "id": "8c339bdd",
   "metadata": {},
   "outputs": [
    {
     "data": {
      "image/png": "[encoded data removed]",
      "text/plain": [
       "<Figure size 800x500 with 1 Axes>"
      ]
     },
     "metadata": {},
     "output_type": "display_data"
    }
   ],
   "source": [
    "hist_dist(data[\"author\"],data[\"fineweb\"], \"Author\", \"FineWeb\", \"msd\")"
   ]
  },
  {
   "cell_type": "code",
   "execution_count": 260,
   "id": "69dcfd20",
   "metadata": {},
   "outputs": [
    {
     "data": {
      "image/png": "[encoded data removed]",
      "text/plain": [
       "<Figure size 800x500 with 1 Axes>"
      ]
     },
     "metadata": {},
     "output_type": "display_data"
    }
   ],
   "source": [
    "hist_dist(data[\"author\"],data[\"fineweb\"], \"Author\", \"FineWeb\", \"mean\")"
   ]
  },
  {
   "cell_type": "code",
   "execution_count": null,
   "id": "a2a49902",
   "metadata": {},
   "outputs": [],
   "source": [
    "#paired non-parametric test MSD\n",
    "from scipy.stats import wilcoxon\n",
    "\n",
    "def wilcoxon_test(sample1, sample2 , type):\n",
    "    if type == \"msd\":\n",
    "        list1 = Squared_diff_list(sample1)\n",
    "        list2 = Squared_diff_list(sample2)\n",
    "\n",
    "    elif type == \"mean\":\n",
    "        list1 = [np.mean(scores) for scores in sample1]\n",
    "        if sample2[0] is float:\n",
    "            list2 = sample2\n",
    "        else:\n",
    "            list2 = [np.mean(scores) for scores in sample2]\n",
    "    else:\n",
    "        \"Error\"\n",
    "    #print(len(list1),len(list2))\n",
    "    return wilcoxon(list1,list2) # returns --> wilcoxon_stat, wilcoxon_p$"
   ]
  },
  {
   "cell_type": "code",
   "execution_count": 306,
   "id": "e21503c1",
   "metadata": {},
   "outputs": [
    {
     "name": "stdout",
     "output_type": "stream",
     "text": [
      "Wilcoxon p-value (MSD): 0.0019335420818070834\n",
      "Wilcoxon p-value (Mean): 0.024049874094710655\n"
     ]
    }
   ],
   "source": [
    "# Paired test\n",
    "wilcoxon_stat_msd, wilcoxon_p_msd = wilcoxon_test(data[\"author\"], data[\"fineweb\"], \"msd\")\n",
    "wilcoxon_stat_mean, wilcoxon_p_mean = wilcoxon_test(data[\"author\"], data[\"fineweb\"], \"mean\")\n",
    "\n",
    "print(f\"Wilcoxon p-value (MSD): {wilcoxon_p_msd}\")\n",
    "print(f\"Wilcoxon p-value (Mean): {wilcoxon_p_mean}\")"
   ]
  },
  {
   "cell_type": "markdown",
   "id": "e253c586",
   "metadata": {},
   "source": [
    "### Comparing our trained models"
   ]
  },
  {
   "cell_type": "code",
   "execution_count": 307,
   "id": "5eb8416a",
   "metadata": {},
   "outputs": [],
   "source": [
    "df_models = pd.read_json(\"../test/final_results.json\", lines=True)\n",
    "\n",
    "model_data = defaultdict(list)\n",
    "\n",
    "raw_cols = [col for col in df_models.columns if col.startswith(\"raw\")]\n",
    "for col in raw_cols:\n",
    "    model_data[col] = df_models[col].tolist()"
   ]
  },
  {
   "cell_type": "code",
   "execution_count": 314,
   "id": "7e4a393c",
   "metadata": {},
   "outputs": [
    {
     "name": "stdout",
     "output_type": "stream",
     "text": [
      "Model: raw_prediction_zeroshot\n",
      "Shapiro-Wilk p-value: 0.677019941373097\n",
      "Wilcoxon p-value (Human Mean vs model): 0.0006157696889992708\n",
      "\n",
      "Model: raw_prediction_Full-finetune\n",
      "Shapiro-Wilk p-value: 0.35936400184304673\n",
      "Wilcoxon p-value (Human Mean vs model): 0.045752803008419725\n",
      "\n",
      "Model: raw_prediction_fewshot-250-samples\n",
      "Shapiro-Wilk p-value: 0.6667966034322942\n",
      "Wilcoxon p-value (Human Mean vs model): 7.459504884752048e-06\n",
      "\n",
      "Model: raw_prediction_fewshot-1000-samples\n",
      "Shapiro-Wilk p-value: 0.6708629002098552\n",
      "Wilcoxon p-value (Human Mean vs model): 0.0003445208537720272\n",
      "\n",
      "Model: raw_prediction_fewshot-2500-samples\n",
      "Shapiro-Wilk p-value: 0.6578051998240472\n",
      "Wilcoxon p-value (Human Mean vs model): 0.0001144119843118567\n",
      "\n"
     ]
    }
   ],
   "source": [
    "for name, scores in model_data.items():\n",
    "    wilcoxon_stat, wilcoxon_p = wilcoxon_test(data[\"all\"], scores, \"mean\")\n",
    "    shapiro_stat, shapiro_p = shapiro(scores)\n",
    "    print(f\"Model: {name}\")\n",
    "    print(f\"Shapiro-Wilk p-value: {shapiro_p}\")\n",
    "    print(f\"Wilcoxon p-value (Human Mean vs model): {wilcoxon_p}\")\n",
    "    print(\"\")"
   ]
  },
  {
   "cell_type": "markdown",
   "id": "76cc30bc",
   "metadata": {},
   "source": [
    "All models predicted significantly different scores than the human mean. (p-value > 0.05)."
   ]
  },
  {
   "cell_type": "code",
   "execution_count": null,
   "id": "fe68dd29",
   "metadata": {},
   "outputs": [
    {
     "name": "stderr",
     "output_type": "stream",
     "text": [
      "/opt/anaconda3/envs/FP25/lib/python3.11/site-packages/krippendorff/krippendorff.py:364: RuntimeWarning: invalid value encountered in scalar divide\n",
      "  return 1 - (o * d).sum() / (e * d).sum()\n"
     ]
    },
    {
     "ename": "ValueError",
     "evalue": "The reliability data contains out-of-domain values.",
     "output_type": "error",
     "traceback": [
      "\u001b[31m---------------------------------------------------------------------------\u001b[39m",
      "\u001b[31mValueError\u001b[39m                                Traceback (most recent call last)",
      "\u001b[36mCell\u001b[39m\u001b[36m \u001b[39m\u001b[32mIn[318]\u001b[39m\u001b[32m, line 3\u001b[39m\n\u001b[32m      1\u001b[39m \u001b[38;5;28;01mfor\u001b[39;00m name, scores \u001b[38;5;129;01min\u001b[39;00m model_data.items():\n\u001b[32m      2\u001b[39m     data_model_and_all = [[scores[i]] + data[\u001b[33m\"\u001b[39m\u001b[33mall\u001b[39m\u001b[33m\"\u001b[39m][i] \u001b[38;5;28;01mfor\u001b[39;00m i \u001b[38;5;129;01min\u001b[39;00m \u001b[38;5;28mrange\u001b[39m(\u001b[38;5;28mlen\u001b[39m(scores))] \n\u001b[32m----> \u001b[39m\u001b[32m3\u001b[39m     wilcoxon_stat, wilcoxon_p = \u001b[43mwilcoxon_test\u001b[49m\u001b[43m(\u001b[49m\u001b[43mscore_data\u001b[49m\u001b[43m,\u001b[49m\u001b[43m \u001b[49m\u001b[43mdata_model_and_all\u001b[49m\u001b[43m,\u001b[49m\u001b[43m \u001b[49m\u001b[33;43m\"\u001b[39;49m\u001b[33;43malpha\u001b[39;49m\u001b[33;43m\"\u001b[39;49m\u001b[43m)\u001b[49m\n\u001b[32m      4\u001b[39m     MSD_score = Mean_Squared_Diff(data_model_and_all)\n\u001b[32m      5\u001b[39m     \u001b[38;5;28mprint\u001b[39m(\u001b[33mf\u001b[39m\u001b[33m\"\u001b[39m\u001b[33mModel \u001b[39m\u001b[38;5;132;01m{\u001b[39;00mname\u001b[38;5;132;01m}\u001b[39;00m\u001b[33m, MSD: \u001b[39m\u001b[38;5;132;01m{\u001b[39;00mMSD_score\u001b[38;5;132;01m}\u001b[39;00m\u001b[33m, Wilcoxon p-value: \u001b[39m\u001b[38;5;132;01m{\u001b[39;00mwilcoxon_p\u001b[38;5;132;01m}\u001b[39;00m\u001b[33m\"\u001b[39m)\n",
      "\u001b[36mCell\u001b[39m\u001b[36m \u001b[39m\u001b[32mIn[317]\u001b[39m\u001b[32m, line 11\u001b[39m, in \u001b[36mwilcoxon_test\u001b[39m\u001b[34m(sample1, sample2, type)\u001b[39m\n\u001b[32m      9\u001b[39m \u001b[38;5;28;01melif\u001b[39;00m \u001b[38;5;28mtype\u001b[39m == \u001b[33m\"\u001b[39m\u001b[33malpha\u001b[39m\u001b[33m\"\u001b[39m:\n\u001b[32m     10\u001b[39m     list1 = [K_alpha(scores, \u001b[33m\"\u001b[39m\u001b[33minterval\u001b[39m\u001b[33m\"\u001b[39m) \u001b[38;5;28;01mfor\u001b[39;00m scores \u001b[38;5;129;01min\u001b[39;00m sample1]\n\u001b[32m---> \u001b[39m\u001b[32m11\u001b[39m     list2 = \u001b[43m[\u001b[49m\u001b[43mK_alpha\u001b[49m\u001b[43m(\u001b[49m\u001b[43mscores\u001b[49m\u001b[43m,\u001b[49m\u001b[43m \u001b[49m\u001b[33;43m\"\u001b[39;49m\u001b[33;43minterval\u001b[39;49m\u001b[33;43m\"\u001b[39;49m\u001b[43m)\u001b[49m\u001b[43m \u001b[49m\u001b[38;5;28;43;01mfor\u001b[39;49;00m\u001b[43m \u001b[49m\u001b[43mscores\u001b[49m\u001b[43m \u001b[49m\u001b[38;5;129;43;01min\u001b[39;49;00m\u001b[43m \u001b[49m\u001b[43msample2\u001b[49m\u001b[43m]\u001b[49m\n\u001b[32m     13\u001b[39m \u001b[38;5;28;01melif\u001b[39;00m \u001b[38;5;28mtype\u001b[39m == \u001b[33m\"\u001b[39m\u001b[33mmean\u001b[39m\u001b[33m\"\u001b[39m:\n\u001b[32m     14\u001b[39m     list1 = [np.mean(scores) \u001b[38;5;28;01mfor\u001b[39;00m scores \u001b[38;5;129;01min\u001b[39;00m sample1]\n",
      "\u001b[36mCell\u001b[39m\u001b[36m \u001b[39m\u001b[32mIn[317]\u001b[39m\u001b[32m, line 11\u001b[39m, in \u001b[36m<listcomp>\u001b[39m\u001b[34m(.0)\u001b[39m\n\u001b[32m      9\u001b[39m \u001b[38;5;28;01melif\u001b[39;00m \u001b[38;5;28mtype\u001b[39m == \u001b[33m\"\u001b[39m\u001b[33malpha\u001b[39m\u001b[33m\"\u001b[39m:\n\u001b[32m     10\u001b[39m     list1 = [K_alpha(scores, \u001b[33m\"\u001b[39m\u001b[33minterval\u001b[39m\u001b[33m\"\u001b[39m) \u001b[38;5;28;01mfor\u001b[39;00m scores \u001b[38;5;129;01min\u001b[39;00m sample1]\n\u001b[32m---> \u001b[39m\u001b[32m11\u001b[39m     list2 = [\u001b[43mK_alpha\u001b[49m\u001b[43m(\u001b[49m\u001b[43mscores\u001b[49m\u001b[43m,\u001b[49m\u001b[43m \u001b[49m\u001b[33;43m\"\u001b[39;49m\u001b[33;43minterval\u001b[39;49m\u001b[33;43m\"\u001b[39;49m\u001b[43m)\u001b[49m \u001b[38;5;28;01mfor\u001b[39;00m scores \u001b[38;5;129;01min\u001b[39;00m sample2]\n\u001b[32m     13\u001b[39m \u001b[38;5;28;01melif\u001b[39;00m \u001b[38;5;28mtype\u001b[39m == \u001b[33m\"\u001b[39m\u001b[33mmean\u001b[39m\u001b[33m\"\u001b[39m:\n\u001b[32m     14\u001b[39m     list1 = [np.mean(scores) \u001b[38;5;28;01mfor\u001b[39;00m scores \u001b[38;5;129;01min\u001b[39;00m sample1]\n",
      "\u001b[36mCell\u001b[39m\u001b[36m \u001b[39m\u001b[32mIn[249]\u001b[39m\u001b[32m, line 4\u001b[39m, in \u001b[36mK_alpha\u001b[39m\u001b[34m(score_data, datatype)\u001b[39m\n\u001b[32m      2\u001b[39m \u001b[38;5;28;01mdef\u001b[39;00m\u001b[38;5;250m \u001b[39m\u001b[34mK_alpha\u001b[39m(score_data,datatype):\n\u001b[32m      3\u001b[39m     reliability_data = np.array(score_data).T \n\u001b[32m----> \u001b[39m\u001b[32m4\u001b[39m     alpha = \u001b[43mkrippendorff\u001b[49m\u001b[43m.\u001b[49m\u001b[43malpha\u001b[49m\u001b[43m(\u001b[49m\u001b[43mreliability_data\u001b[49m\u001b[43m=\u001b[49m\u001b[43mreliability_data\u001b[49m\u001b[43m,\u001b[49m\u001b[43m \u001b[49m\u001b[43mvalue_domain\u001b[49m\u001b[43m=\u001b[49m\u001b[38;5;28;43mlist\u001b[39;49m\u001b[43m(\u001b[49m\u001b[38;5;28;43mrange\u001b[39;49m\u001b[43m(\u001b[49m\u001b[43mR\u001b[49m\u001b[43m)\u001b[49m\u001b[43m)\u001b[49m\u001b[43m,\u001b[49m\u001b[43m \u001b[49m\u001b[43mlevel_of_measurement\u001b[49m\u001b[43m=\u001b[49m\u001b[43mdatatype\u001b[49m\u001b[43m)\u001b[49m\n\u001b[32m      5\u001b[39m     \u001b[38;5;28;01mreturn\u001b[39;00m alpha\n",
      "\u001b[36mFile \u001b[39m\u001b[32m/opt/anaconda3/envs/FP25/lib/python3.11/site-packages/krippendorff/krippendorff.py:335\u001b[39m, in \u001b[36malpha\u001b[39m\u001b[34m(reliability_data, value_counts, value_domain, level_of_measurement, dtype)\u001b[39m\n\u001b[32m    332\u001b[39m         \u001b[38;5;66;03m# Note: We do not need to test for `np.nan` in the input data.\u001b[39;00m\n\u001b[32m    333\u001b[39m         \u001b[38;5;66;03m# `np.nan` indicates the absence of a domain value and is always allowed.\u001b[39;00m\n\u001b[32m    334\u001b[39m         \u001b[38;5;28;01mif\u001b[39;00m \u001b[38;5;129;01mnot\u001b[39;00m np.isin(computed_value_domain, value_domain).all():\n\u001b[32m--> \u001b[39m\u001b[32m335\u001b[39m             \u001b[38;5;28;01mraise\u001b[39;00m \u001b[38;5;167;01mValueError\u001b[39;00m(\u001b[33m\"\u001b[39m\u001b[33mThe reliability data contains out-of-domain values.\u001b[39m\u001b[33m\"\u001b[39m)\n\u001b[32m    337\u001b[39m     value_counts = _reliability_data_to_value_counts(reliability_data, value_domain)\n\u001b[32m    338\u001b[39m \u001b[38;5;28;01melse\u001b[39;00m:\n",
      "\u001b[31mValueError\u001b[39m: The reliability data contains out-of-domain values."
     ]
    }
   ],
   "source": [
    "for name, scores in model_data.items():\n",
    "    data_model_and_all = [[scores[i]] + data[\"all\"][i] for i in range(len(scores))] \n",
    "    wilcoxon_stat, wilcoxon_p = wilcoxon_test(score_data, data_model_and_all, \"msd\")\n",
    "    MSD_score = Mean_Squared_Diff(data_model_and_all)\n",
    "    print(f\"Model {name}, MSD: {MSD_score}, Wilcoxon p-value: {wilcoxon_p}\")"
   ]
  },
  {
   "cell_type": "markdown",
   "id": "717aff63",
   "metadata": {},
   "source": [
    "All models significantly raise the inter-annotator disagreement (MSD) when added the human annotators (p-values > 0.05). The MSD before the models where added was 1.26."
   ]
  },
  {
   "cell_type": "markdown",
   "id": "2fd7d914",
   "metadata": {},
   "source": [
    "___\n",
    "## Comparing classes\n",
    "We create pools for each annotation class, including all items where a specific class was annotated at least once."
   ]
  },
  {
   "cell_type": "code",
   "execution_count": null,
   "id": "e8ba6d84",
   "metadata": {},
   "outputs": [
    {
     "name": "stdout",
     "output_type": "stream",
     "text": [
      "[[0, 0, 0, 0, 0, 0], [0, 1, 0, 0, 0, 2], [2, 1, 0, 2, 0, 0], [1, 0, 0, 0, 0, 0], [0, 1, 0, 0, 1, 0], [0, 0, 0, 1, 0, 1], [0, 1, 0, 0, 3, 0], [0, 2, 1, 2, 1, 3], [2, 2, 2, 0, 1, 3], [0, 1, 1, 1, 1, 0], [0, 0, 0, 0, 0, 1], [0, 2, 0, 2, 0, 0], [0, 1, 0, 1, 0, 1], [3, 3, 2, 0, 0, 2], [0, 0, 0, 0, 0, 0], [2, 2, 1, 0, 1, 3], [1, 2, 0, 0, 0, 0], [2, 3, 1, 1, 0, 3], [4, 3, 2, 0, 0, 1], [0, 1, 0, 1, 0, 2], [0, 1, 0, 0, 0, 0], [1, 2, 0, 3, 2, 1], [0, 2, 3, 1, 1, 1], [0, 0, 0, 0, 0, 1], [3, 4, 1, 3, 2, 0], [0, 0, 0, 0, 0, 0], [0, 3, 1, 0, 1, 2], [0, 1, 0, 0, 1, 0], [2, 2, 0, 0, 1, 3], [0, 1, 0, 0, 0, 0], [0, 1, 0, 0, 0, 1], [0, 1, 0, 1, 0, 0], [1, 2, 2, 0, 3, 1], [1, 2, 1, 1, 3, 0], [0, 1, 1, 0, 0, 0], [0, 1, 0, 1, 1, 1], [0, 0, 0, 0, 0, 0], [0, 1, 0, 1, 1, 0], [0, 0, 0, 0, 1, 0], [1, 1, 3, 1, 0, 0], [0, 1, 0, 0, 0, 0], [0, 0, 0, 0, 0, 0], [0, 1, 2, 1, 0, 2], [0, 1, 0, 0, 0, 0], [0, 0, 0, 0, 0, 0], [1, 0, 1, 0, 1, 0], [1, 1, 1, 0, 0, 0], [0, 0, 0, 0, 0, 1], [1, 1, 1, 1, 0, 1], [1, 1, 1, 0, 0, 1], [0, 1, 1, 1, 0, 0], [1, 2, 1, 0, 0, 1], [0, 1, 0, 1, 0, 2], [1, 0, 1, 2, 0, 0], [0, 1, 1, 1, 2, 0], [0, 0, 0, 1, 0, 1], [0, 1, 0, 1, 1, 0], [2, 1, 1, 0, 0, 1], [1, 1, 2, 1, 0, 0], [0, 1, 1, 0, 0, 1], [1, 0, 0, 0, 1, 1], [1, 1, 1, 1, 0, 2], [0, 1, 1, 1, 3, 0], [0, 0, 1, 1, 0, 0], [2, 2, 1, 0, 0, 3], [0, 2, 2, 1, 2, 2], [0, 0, 0, 0, 0, 0], [2, 1, 1, 0, 0, 1], [1, 0, 1, 0, 1, 1], [3, 1, 2, 0, 1, 0], [0, 1, 0, 0, 1, 0], [0, 1, 1, 0, 0, 2], [0, 0, 0, 0, 0, 0], [1, 2, 2, 0, 1, 2]]\n",
      "[[3, 1, 3, 2, 2, 1], [0, 1, 0, 0, 0, 2], [2, 1, 0, 2, 0, 0], [1, 0, 0, 0, 0, 0], [0, 1, 0, 0, 1, 0], [0, 0, 0, 1, 0, 1], [0, 1, 0, 0, 3, 0], [0, 2, 1, 2, 1, 3], [2, 2, 2, 0, 1, 3], [1, 1, 1, 1, 1, 1], [0, 1, 1, 1, 1, 0], [1, 1, 1, 1, 1, 1], [0, 0, 0, 0, 0, 1], [4, 3, 1, 3, 1, 2], [0, 1, 0, 1, 0, 1], [3, 4, 2, 2, 1, 4], [1, 2, 2, 1, 2, 1], [2, 2, 1, 0, 1, 3], [1, 2, 0, 0, 0, 0], [2, 2, 1, 2, 1, 2], [2, 3, 1, 1, 0, 3], [4, 3, 2, 0, 0, 1], [0, 1, 0, 1, 0, 2], [1, 2, 1, 1, 1, 4], [0, 1, 0, 0, 0, 0], [1, 2, 0, 3, 2, 1], [1, 3, 1, 2, 1, 2], [0, 2, 3, 1, 1, 1], [1, 1, 2, 1, 1, 1], [0, 0, 0, 0, 0, 1], [3, 4, 1, 3, 2, 0], [0, 3, 1, 0, 1, 2], [0, 1, 0, 0, 1, 0], [2, 2, 0, 0, 1, 3], [0, 1, 0, 0, 0, 0], [0, 1, 0, 0, 0, 1], [2, 3, 1, 2, 1, 4], [1, 2, 2, 1, 1, 2], [2, 2, 1, 2, 3, 1], [0, 1, 0, 1, 0, 0], [1, 2, 2, 0, 3, 1], [1, 2, 1, 1, 3, 0], [2, 2, 2, 2, 1, 3], [2, 2, 2, 1, 1, 3], [0, 1, 1, 0, 0, 0], [1, 2, 1, 1, 3, 1], [0, 1, 0, 1, 1, 1], [2, 2, 2, 1, 1, 4], [0, 1, 0, 1, 1, 0], [0, 0, 0, 0, 1, 0], [1, 1, 3, 1, 0, 0], [0, 1, 0, 0, 0, 0], [0, 1, 2, 1, 0, 2], [0, 1, 0, 0, 0, 0], [2, 1, 1, 2, 3, 1], [1, 0, 1, 0, 1, 0], [1, 1, 1, 0, 0, 0], [0, 0, 0, 0, 0, 1], [1, 1, 1, 1, 0, 1], [1, 1, 1, 0, 0, 1], [0, 1, 1, 1, 0, 0], [1, 2, 1, 0, 0, 1], [0, 1, 0, 1, 0, 2], [1, 0, 1, 2, 0, 0], [0, 1, 1, 1, 2, 0], [0, 0, 0, 1, 0, 1], [0, 1, 0, 1, 1, 0], [2, 1, 1, 0, 0, 1], [1, 1, 2, 1, 0, 0], [0, 1, 1, 0, 0, 1], [1, 0, 0, 0, 1, 1], [1, 1, 1, 1, 0, 2], [0, 1, 1, 1, 3, 0], [0, 0, 1, 1, 0, 0], [2, 1, 2, 2, 1, 3], [2, 2, 1, 0, 0, 3], [2, 2, 3, 1, 4, 1], [0, 2, 2, 1, 2, 2], [2, 1, 1, 0, 0, 1], [1, 0, 1, 0, 1, 1], [3, 1, 2, 0, 1, 0], [4, 1, 2, 3, 1, 3], [0, 1, 0, 0, 1, 0], [0, 1, 1, 0, 0, 2], [1, 2, 2, 0, 1, 2]]\n",
      "[[3, 1, 3, 2, 2, 1], [0, 1, 0, 0, 0, 2], [2, 1, 0, 2, 0, 0], [3, 2, 3, 2, 4, 2], [0, 2, 1, 2, 1, 3], [2, 2, 2, 0, 1, 3], [4, 3, 1, 3, 1, 2], [0, 2, 0, 2, 0, 0], [3, 4, 2, 2, 1, 4], [3, 3, 2, 0, 0, 2], [1, 2, 2, 1, 2, 1], [2, 2, 1, 0, 1, 3], [1, 2, 0, 0, 0, 0], [2, 2, 1, 2, 1, 2], [2, 3, 1, 1, 0, 3], [4, 3, 2, 0, 0, 1], [0, 1, 0, 1, 0, 2], [1, 2, 1, 1, 1, 4], [1, 2, 0, 3, 2, 1], [1, 3, 1, 2, 1, 2], [0, 2, 3, 1, 1, 1], [1, 1, 2, 1, 1, 1], [3, 4, 1, 3, 2, 0], [0, 3, 1, 0, 1, 2], [2, 2, 0, 0, 1, 3], [2, 3, 1, 2, 1, 4], [1, 2, 2, 1, 1, 2], [2, 2, 1, 2, 3, 1], [3, 4, 3, 2, 2, 3], [1, 2, 2, 0, 3, 1], [2, 3, 4, 2, 2, 2], [1, 2, 1, 1, 3, 0], [2, 2, 2, 2, 1, 3], [2, 3, 3, 4, 2, 4], [2, 2, 2, 1, 1, 3], [1, 2, 1, 1, 3, 1], [2, 2, 2, 1, 1, 4], [0, 1, 2, 1, 0, 2], [2, 1, 1, 2, 3, 1], [1, 2, 1, 0, 0, 1], [0, 1, 0, 1, 0, 2], [1, 0, 1, 2, 0, 0], [0, 1, 1, 1, 2, 0], [2, 1, 1, 0, 0, 1], [1, 1, 2, 1, 0, 0], [1, 1, 1, 1, 0, 2], [2, 1, 2, 2, 1, 3], [2, 2, 1, 0, 0, 3], [2, 2, 3, 1, 4, 1], [0, 2, 2, 1, 2, 2], [2, 1, 1, 0, 0, 1], [3, 1, 2, 0, 1, 0], [4, 1, 2, 3, 1, 3], [0, 1, 1, 0, 0, 2], [3, 3, 3, 3, 2, 4], [1, 2, 2, 0, 1, 2]]\n",
      "[[3, 1, 3, 2, 2, 1], [3, 2, 3, 2, 4, 2], [0, 1, 0, 0, 3, 0], [0, 2, 1, 2, 1, 3], [2, 2, 2, 0, 1, 3], [4, 3, 1, 3, 1, 2], [3, 4, 2, 2, 1, 4], [3, 3, 2, 0, 0, 2], [2, 2, 1, 0, 1, 3], [2, 3, 1, 1, 0, 3], [4, 3, 2, 0, 0, 1], [1, 2, 0, 3, 2, 1], [1, 3, 1, 2, 1, 2], [0, 2, 3, 1, 1, 1], [3, 4, 1, 3, 2, 0], [0, 3, 1, 0, 1, 2], [2, 2, 0, 0, 1, 3], [2, 3, 1, 2, 1, 4], [2, 2, 1, 2, 3, 1], [3, 4, 3, 2, 2, 3], [1, 2, 2, 0, 3, 1], [2, 3, 4, 2, 2, 2], [1, 2, 1, 1, 3, 0], [2, 2, 2, 2, 1, 3], [2, 3, 3, 4, 2, 4], [2, 2, 2, 1, 1, 3], [1, 2, 1, 1, 3, 1], [1, 1, 3, 1, 0, 0], [2, 1, 1, 2, 3, 1], [0, 1, 1, 1, 3, 0], [2, 1, 2, 2, 1, 3], [2, 2, 1, 0, 0, 3], [2, 2, 3, 1, 4, 1], [3, 1, 2, 0, 1, 0], [4, 1, 2, 3, 1, 3], [3, 3, 3, 3, 2, 4]]\n",
      "[[3, 2, 3, 2, 4, 2], [4, 3, 1, 3, 1, 2], [3, 4, 2, 2, 1, 4], [4, 3, 2, 0, 0, 1], [1, 2, 1, 1, 1, 4], [3, 4, 1, 3, 2, 0], [2, 3, 1, 2, 1, 4], [3, 4, 3, 2, 2, 3], [2, 3, 4, 2, 2, 2], [2, 3, 3, 4, 2, 4], [2, 2, 2, 1, 1, 4], [2, 2, 3, 1, 4, 1], [4, 1, 2, 3, 1, 3], [3, 3, 3, 3, 2, 4]]\n"
     ]
    },
    {
     "data": {
      "text/plain": [
       "{0: (np.float64(1.1981981981981982),\n",
       "  np.float64(0.2003480792500809),\n",
       "  np.float64(0.07934703347696381),\n",
       "  np.float64(0.07726881007623465)),\n",
       " 1: (np.float64(1.3450980392156862),\n",
       "  np.float64(0.31841848653781846),\n",
       "  np.float64(0.08497435840388046),\n",
       "  np.float64(0.08317666559131401)),\n",
       " 2: (np.float64(1.851190476190476),\n",
       "  np.float64(0.2062311439435841),\n",
       "  np.float64(0.009585953256614044),\n",
       "  np.float64(0.006629493415589061)),\n",
       " 3: (np.float64(2.25),\n",
       "  np.float64(0.1029584860927929),\n",
       "  np.float64(-0.03136084679916662),\n",
       "  np.float64(-0.036157873993581384)),\n",
       " 4: (np.float64(2.5380952380952375),\n",
       "  np.float64(-0.016476265576985005),\n",
       "  np.float64(-0.025458629726694104),\n",
       "  np.float64(-0.037813552976413346))}"
      ]
     },
     "execution_count": 167,
     "metadata": {},
     "output_type": "execute_result"
    }
   ],
   "source": [
    "agreement_pools = {}\n",
    "for i in range(R):\n",
    "    pool = [scores for scores in data[\"all\"] if i in scores]\n",
    "    agreement_pools[i] = (Mean_Squared_Diff(pool), K_alpha(pool,\"interval\"), K_alpha(pool,\"nominal\"))\n",
    "                        \n",
    "    print(pool)\n",
    "\n",
    "agreement_pools"
   ]
  },
  {
   "cell_type": "code",
   "execution_count": null,
   "id": "dbd4b546",
   "metadata": {},
   "outputs": [
    {
     "data": {
      "image/png": "[encoded data removed]",
      "text/plain": [
       "<Figure size 800x500 with 1 Axes>"
      ]
     },
     "metadata": {},
     "output_type": "display_data"
    }
   ],
   "source": [
    "sns.set(style=\"whitegrid\")\n",
    "\n",
    "bins = [x - 0.5 for x in range(6)]\n",
    "\n",
    "# Plot\n",
    "plt.figure(figsize=(8, 5))\n",
    "plt.hist(all_scores, bins=bins, edgecolor='black', color='skyblue', rwidth=0.9,)\n",
    "\n",
    "# Customize axes\n",
    "plt.xticks(range(5)) \n",
    "plt.xlabel('Annotation Score')\n",
    "plt.ylabel('Frequency')\n",
    "\n",
    "# Clean layout\n",
    "plt.tight_layout()\n",
    "plt.show()"
   ]
  }
 ],
 "metadata": {
  "kernelspec": {
   "display_name": "FP25",
   "language": "python",
   "name": "python3"
  },
  "language_info": {
   "codemirror_mode": {
    "name": "ipython",
    "version": 3
   },
   "file_extension": ".py",
   "mimetype": "text/x-python",
   "name": "python",
   "nbconvert_exporter": "python",
   "pygments_lexer": "ipython3",
   "version": "3.11.11"
  }
 },
 "nbformat": 4,
 "nbformat_minor": 5
}
