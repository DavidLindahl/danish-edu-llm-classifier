{
 "cells": [
  {
   "cell_type": "code",
   "execution_count": 35,
   "id": "a329e5c3",
   "metadata": {},
   "outputs": [],
   "source": [
    "import numpy as np\n",
    "import pandas as pd\n",
    "import re\n",
    "import krippendorff\n",
    "from collections import defaultdict, Counter\n",
    "from itertools import combinations\n",
    "import matplotlib.pyplot as plt\n",
    "import seaborn as sns"
   ]
  },
  {
   "cell_type": "code",
   "execution_count": 2,
   "id": "d2a91915",
   "metadata": {},
   "outputs": [
    {
     "data": {
      "text/plain": [
       "'None'"
      ]
     },
     "execution_count": 2,
     "metadata": {},
     "output_type": "execute_result"
    }
   ],
   "source": [
    "#Fetching Data\n",
    "\n",
    "df_mikkel = pd.read_json(\"annotations_mikkel.json\")\n",
    "df_david = pd.read_json(\"annotations_david.json\")\n",
    "\n",
    "#Fix of dataframe\n",
    "def parse_label_string(label_str):\n",
    "    return re.findall(r\"'(.*?)'\", label_str)\n",
    "\n",
    "df_mikkel['original_label'] = df_mikkel['original_label'].apply(parse_label_string)\n",
    "\n",
    "#Check:\n",
    "df_mikkel[\"original_label\"].iloc[0][0]"
   ]
  },
  {
   "cell_type": "code",
   "execution_count": 3,
   "id": "560d1aa7",
   "metadata": {},
   "outputs": [],
   "source": [
    "# Preparing data and setting variables \n",
    "\n",
    "num_encoder = {'None': 0,\n",
    "               'Minimal': 1,\n",
    "               'Basic': 2,\n",
    "               'Good': 3,\n",
    "               'Excellent': 4}\n",
    "\n",
    "N = len(df_mikkel)\n",
    "R = 5 #number of ratings\n",
    "\n",
    "score_data = []\n",
    "\n",
    "for i in range(len(df_mikkel)):\n",
    "    labels = [df_mikkel[\"our_label\"].iloc[i]] + [df_david[\"our_label\"].iloc[i]] + df_mikkel[\"original_label\"].iloc[i]\n",
    "    scores = [num_encoder[label] for label in labels]\n",
    "    score_data.append(scores) #list of lists"
   ]
  },
  {
   "cell_type": "markdown",
   "id": "09ea7196",
   "metadata": {},
   "source": [
    "____\n",
    "\n",
    "## Global aggreement: MSD and Krippendorffs $\\alpha$"
   ]
  },
  {
   "cell_type": "markdown",
   "id": "392b1da3",
   "metadata": {},
   "source": [
    "### MSD"
   ]
  },
  {
   "cell_type": "code",
   "execution_count": 4,
   "id": "edb1f0da",
   "metadata": {},
   "outputs": [
    {
     "data": {
      "text/plain": [
       "np.float64(1.3060000000000003)"
      ]
     },
     "execution_count": 4,
     "metadata": {},
     "output_type": "execute_result"
    }
   ],
   "source": [
    "\n",
    "def Mean_Squared_Diff(score_data): # --> list of lists\n",
    "\n",
    "    SD_list = []\n",
    "\n",
    "    for scores in score_data:\n",
    "        c = len(scores)\n",
    "        #The Squared Difference between unordered distinct pairs for one text:\n",
    "        SD = (2 / (c * (c - 1))) * sum(\n",
    "            (scores[j] - scores[k]) ** 2 \n",
    "            for j in range(c) \n",
    "            for k in range(j+1,c))\n",
    "        SD_list.append(SD)\n",
    "\n",
    "    return np.mean(SD_list)\n",
    "\n",
    "MSD = Mean_Squared_Diff(score_data)\n",
    "\n",
    "MSD"
   ]
  },
  {
   "cell_type": "markdown",
   "id": "73d573b5",
   "metadata": {},
   "source": [
    "### Krippendorff's $\\alpha$"
   ]
  },
  {
   "cell_type": "code",
   "execution_count": 5,
   "id": "2579b14b",
   "metadata": {},
   "outputs": [
    {
     "data": {
      "text/plain": [
       "np.float64(0.4186097634730207)"
      ]
     },
     "execution_count": 5,
     "metadata": {},
     "output_type": "execute_result"
    }
   ],
   "source": [
    "# Alpha calculated with library\n",
    "\n",
    "def K_alpha(score_data):\n",
    "    reliability_data = np.array(score_data).T \n",
    "    alpha = krippendorff.alpha(reliability_data=reliability_data, level_of_measurement='ordinal')\n",
    "    return alpha\n",
    "\n",
    "alpha = K_alpha(score_data)\n",
    "alpha"
   ]
  },
  {
   "cell_type": "code",
   "execution_count": 6,
   "id": "a50ad0eb",
   "metadata": {},
   "outputs": [
    {
     "data": {
      "text/plain": [
       "np.float64(0.4111397446833117)"
      ]
     },
     "execution_count": 6,
     "metadata": {},
     "output_type": "execute_result"
    }
   ],
   "source": [
    "#Alpha calculated by hand:\n",
    "\n",
    "D_o = MSD\n",
    "\n",
    "# All annotation scores\n",
    "all_scores = np.asarray(score_data).flatten()\n",
    "\n",
    "\n",
    "label_counts = Counter(all_scores)  #dict\n",
    "labels = list(range(R))\n",
    "n_total = len(all_scores)  # total annotations\n",
    "\n",
    "# Calculate D_e\n",
    "De_numerator = 0\n",
    "for i in range(R):\n",
    "    for j in range(i + 1, R):\n",
    "        a = labels[i]\n",
    "        b = labels[j]\n",
    "        n_a = label_counts[a]\n",
    "        n_b = label_counts[b]\n",
    "        delta = (a - b) ** 2\n",
    "        De_numerator += n_a * n_b * delta\n",
    "\n",
    "D_e =  De_numerator * 2 / (n_total * (n_total - 1))\n",
    "\n",
    "alpha_simplifed = 1 - D_o / D_e\n",
    "alpha_simplifed"
   ]
  },
  {
   "cell_type": "code",
   "execution_count": 7,
   "id": "9f374381",
   "metadata": {},
   "outputs": [
    {
     "data": {
      "text/plain": [
       "np.float64(0.4051916612962747)"
      ]
     },
     "execution_count": 7,
     "metadata": {},
     "output_type": "execute_result"
    }
   ],
   "source": [
    "#Testing for equal results\n",
    "# --> for all distinct ordered pairs and normalized difference\n",
    "\n",
    "R = 5 #number of ratings\n",
    "\n",
    "SD_list = []\n",
    "\n",
    "for scores in score_data[1:]:\n",
    "    c = len(scores)\n",
    "    SD = (1 / (c * (c - 1))) * sum(\n",
    "        ((scores[j] - scores[k]) / (R - 1)) ** 2\n",
    "        for j in range(c)\n",
    "        for k in range(c)\n",
    "        if j != k\n",
    "    )\n",
    "    SD_list.append(SD)\n",
    "\n",
    "D_o = np.mean(SD_list)\n",
    "\n",
    "# All annotation scores\n",
    "all_scores = np.asarray(score_data).flatten()\n",
    "\n",
    "\n",
    "label_counts = Counter(all_scores)  #dict\n",
    "labels = list(range(R))\n",
    "n_total = len(all_scores)  # total annotations\n",
    "\n",
    "# Calculate D_e\n",
    "De_numerator = 0\n",
    "for i in range(R):\n",
    "    for j in range(R):\n",
    "        a = labels[i]\n",
    "        b = labels[j]\n",
    "        if a == b:\n",
    "            continue\n",
    "        n_a = label_counts[a]\n",
    "        n_b = label_counts[b]\n",
    "        delta = ((a - b) / (R-1)) ** 2\n",
    "        De_numerator += n_a * n_b * delta\n",
    "\n",
    "D_e =  De_numerator * 1 / (n_total * (n_total - 1))\n",
    "\n",
    "alpha_ordered = 1 - D_o / D_e\n",
    "alpha_ordered"
   ]
  },
  {
   "cell_type": "markdown",
   "id": "ae728952",
   "metadata": {},
   "source": [
    "We only see small differences in the output, which might be due to data structures used (lists vs matrices). For simplicity we will use the alpha from the library."
   ]
  },
  {
   "cell_type": "markdown",
   "id": "bd9ee51d",
   "metadata": {},
   "source": [
    "_______\n",
    "## Comparing annotators"
   ]
  },
  {
   "cell_type": "code",
   "execution_count": 74,
   "id": "5551a241",
   "metadata": {},
   "outputs": [],
   "source": [
    "def entropy(score_d):\n",
    "    H = []\n",
    "    for scores in score_d:\n",
    "        total = len(scores)\n",
    "        counts = Counter(scores)\n",
    "        probs = [count / total for count in counts.values()]\n",
    "        h_ = -sum(p * np.log2(p) for p in probs if p > 0)\n",
    "        H.append(h_)\n",
    "    return np.mean(H)\n",
    "\n",
    "def norm_entropy(score_d):\n",
    "    H = []\n",
    "    for scores in score_d:\n",
    "        total = len(scores)\n",
    "        counts = Counter(scores)\n",
    "        K = len(counts)\n",
    "        probs = [count / total for count in counts.values()]\n",
    "        h_norm = -sum(p * np.log2(p) for p in probs if p > 0) / np.log2(K) if K > 1 else 0.0\n",
    "        H.append(h_norm)\n",
    "    return np.mean(H)"
   ]
  },
  {
   "cell_type": "code",
   "execution_count": 76,
   "id": "5a8b7455",
   "metadata": {},
   "outputs": [
    {
     "data": {
      "text/plain": [
       "{'author': (np.float64(1.01),\n",
       "  np.float64(0.5174781163361675),\n",
       "  np.float64(0.57)),\n",
       " 'fineweb': (np.float64(1.6066666666666665),\n",
       "  np.float64(0.3381319866159098),\n",
       "  np.float64(0.7366967920488796)),\n",
       " 'all': (np.float64(1.3060000000000003),\n",
       "  np.float64(0.4186097634730207),\n",
       "  np.float64(0.8091599283609386))}"
      ]
     },
     "execution_count": 76,
     "metadata": {},
     "output_type": "execute_result"
    }
   ],
   "source": [
    "n = 2 #number of author annotators\n",
    "\n",
    "data = {\"author\": [scores[:n] for scores in score_data],\n",
    "        \"fineweb\": [scores[n:] for scores in score_data],\n",
    "        \"all\": score_data}\n",
    "\n",
    "agreement = {}\n",
    "for name,scores in data.items():\n",
    "    agreement[name] = (Mean_Squared_Diff(scores), K_alpha(scores), norm_entropy(scores))\n",
    "\n",
    "agreement"
   ]
  },
  {
   "cell_type": "markdown",
   "id": "2fd7d914",
   "metadata": {},
   "source": [
    "___\n",
    "## Comparing classes\n",
    "We create pools for each annotation class, including all items where a specific class was annotated at least once."
   ]
  },
  {
   "cell_type": "code",
   "execution_count": 75,
   "id": "e8ba6d84",
   "metadata": {},
   "outputs": [
    {
     "name": "stdout",
     "output_type": "stream",
     "text": [
      "[[0, 0, 0, 0, 0], [1, 0, 0, 0, 2], [1, 0, 2, 0, 0], [0, 0, 0, 0, 0], [1, 0, 0, 1, 0], [0, 0, 1, 0, 1], [1, 0, 0, 3, 0], [2, 2, 0, 1, 3], [1, 1, 1, 1, 0], [0, 0, 0, 0, 1], [2, 0, 2, 0, 0], [1, 0, 1, 0, 1], [3, 2, 0, 0, 2], [0, 0, 0, 0, 0], [2, 1, 0, 1, 3], [2, 0, 0, 0, 0], [3, 1, 1, 0, 3], [3, 2, 0, 0, 1], [1, 0, 1, 0, 2], [1, 0, 0, 0, 0], [2, 0, 3, 2, 1], [0, 0, 0, 0, 1], [4, 1, 3, 2, 0], [0, 0, 0, 0, 0], [3, 1, 0, 1, 2], [1, 0, 0, 1, 0], [2, 0, 0, 1, 3], [1, 0, 0, 0, 0], [1, 0, 0, 0, 1], [1, 0, 1, 0, 0], [2, 2, 0, 3, 1], [2, 1, 1, 3, 0], [1, 1, 0, 0, 0], [1, 0, 1, 1, 1], [0, 0, 0, 0, 0], [1, 0, 1, 1, 0], [0, 0, 0, 1, 0], [1, 3, 1, 0, 0], [1, 0, 0, 0, 0], [0, 0, 0, 0, 0], [1, 2, 1, 0, 2], [1, 0, 0, 0, 0], [0, 0, 0, 0, 0], [0, 1, 0, 1, 0], [1, 1, 0, 0, 0], [0, 0, 0, 0, 1], [1, 1, 1, 0, 1], [1, 1, 0, 0, 1], [1, 1, 1, 0, 0], [2, 1, 0, 0, 1], [1, 0, 1, 0, 2], [0, 1, 2, 0, 0], [1, 1, 1, 2, 0], [0, 0, 1, 0, 1], [1, 0, 1, 1, 0], [1, 1, 0, 0, 1], [1, 2, 1, 0, 0], [1, 1, 0, 0, 1], [0, 0, 0, 1, 1], [1, 1, 1, 0, 2], [1, 1, 1, 3, 0], [0, 1, 1, 0, 0], [2, 1, 0, 0, 3], [0, 0, 0, 0, 0], [1, 1, 0, 0, 1], [0, 1, 0, 1, 1], [1, 2, 0, 1, 0], [1, 0, 0, 1, 0], [1, 1, 0, 0, 2], [0, 0, 0, 0, 0], [2, 2, 0, 1, 2]]\n",
      "[[1, 3, 2, 2, 1], [1, 0, 0, 0, 2], [1, 0, 2, 0, 0], [1, 0, 0, 1, 0], [0, 0, 1, 0, 1], [1, 0, 0, 3, 0], [2, 1, 2, 1, 3], [2, 2, 0, 1, 3], [1, 1, 1, 1, 1], [1, 1, 1, 1, 0], [1, 1, 1, 1, 1], [0, 0, 0, 0, 1], [3, 1, 3, 1, 2], [1, 0, 1, 0, 1], [4, 2, 2, 1, 4], [2, 2, 1, 2, 1], [2, 1, 0, 1, 3], [2, 1, 2, 1, 2], [3, 1, 1, 0, 3], [3, 2, 0, 0, 1], [1, 0, 1, 0, 2], [2, 1, 1, 1, 4], [1, 0, 0, 0, 0], [2, 0, 3, 2, 1], [3, 1, 2, 1, 2], [2, 3, 1, 1, 1], [1, 2, 1, 1, 1], [0, 0, 0, 0, 1], [4, 1, 3, 2, 0], [3, 1, 0, 1, 2], [1, 0, 0, 1, 0], [2, 0, 0, 1, 3], [1, 0, 0, 0, 0], [1, 0, 0, 0, 1], [3, 1, 2, 1, 4], [2, 2, 1, 1, 2], [2, 1, 2, 3, 1], [1, 0, 1, 0, 0], [2, 2, 0, 3, 1], [2, 1, 1, 3, 0], [2, 2, 2, 1, 3], [2, 2, 1, 1, 3], [1, 1, 0, 0, 0], [2, 1, 1, 3, 1], [1, 0, 1, 1, 1], [2, 2, 1, 1, 4], [1, 0, 1, 1, 0], [0, 0, 0, 1, 0], [1, 3, 1, 0, 0], [1, 0, 0, 0, 0], [1, 2, 1, 0, 2], [1, 0, 0, 0, 0], [1, 1, 2, 3, 1], [0, 1, 0, 1, 0], [1, 1, 0, 0, 0], [0, 0, 0, 0, 1], [1, 1, 1, 0, 1], [1, 1, 0, 0, 1], [1, 1, 1, 0, 0], [2, 1, 0, 0, 1], [1, 0, 1, 0, 2], [0, 1, 2, 0, 0], [1, 1, 1, 2, 0], [0, 0, 1, 0, 1], [1, 0, 1, 1, 0], [1, 1, 0, 0, 1], [1, 2, 1, 0, 0], [1, 1, 0, 0, 1], [0, 0, 0, 1, 1], [1, 1, 1, 0, 2], [1, 1, 1, 3, 0], [0, 1, 1, 0, 0], [1, 2, 2, 1, 3], [2, 1, 0, 0, 3], [2, 3, 1, 4, 1], [2, 2, 1, 2, 2], [1, 1, 0, 0, 1], [0, 1, 0, 1, 1], [1, 2, 0, 1, 0], [1, 2, 3, 1, 3], [1, 0, 0, 1, 0], [1, 1, 0, 0, 2], [2, 2, 0, 1, 2]]\n",
      "[[1, 3, 2, 2, 1], [1, 0, 0, 0, 2], [1, 0, 2, 0, 0], [2, 3, 2, 4, 2], [2, 1, 2, 1, 3], [2, 2, 0, 1, 3], [3, 1, 3, 1, 2], [2, 0, 2, 0, 0], [4, 2, 2, 1, 4], [3, 2, 0, 0, 2], [2, 2, 1, 2, 1], [2, 1, 0, 1, 3], [2, 0, 0, 0, 0], [2, 1, 2, 1, 2], [3, 2, 0, 0, 1], [1, 0, 1, 0, 2], [2, 1, 1, 1, 4], [2, 0, 3, 2, 1], [3, 1, 2, 1, 2], [2, 3, 1, 1, 1], [1, 2, 1, 1, 1], [4, 1, 3, 2, 0], [3, 1, 0, 1, 2], [2, 0, 0, 1, 3], [3, 1, 2, 1, 4], [2, 2, 1, 1, 2], [2, 1, 2, 3, 1], [4, 3, 2, 2, 3], [2, 2, 0, 3, 1], [3, 4, 2, 2, 2], [2, 1, 1, 3, 0], [2, 2, 2, 1, 3], [3, 3, 4, 2, 4], [2, 2, 1, 1, 3], [2, 1, 1, 3, 1], [2, 2, 1, 1, 4], [1, 2, 1, 0, 2], [1, 1, 2, 3, 1], [2, 1, 0, 0, 1], [1, 0, 1, 0, 2], [0, 1, 2, 0, 0], [1, 1, 1, 2, 0], [1, 2, 1, 0, 0], [1, 1, 1, 0, 2], [1, 2, 2, 1, 3], [2, 1, 0, 0, 3], [2, 3, 1, 4, 1], [2, 2, 1, 2, 2], [1, 2, 0, 1, 0], [1, 2, 3, 1, 3], [1, 1, 0, 0, 2], [3, 3, 3, 2, 4], [2, 2, 0, 1, 2]]\n",
      "[[1, 3, 2, 2, 1], [2, 3, 2, 4, 2], [1, 0, 0, 3, 0], [2, 1, 2, 1, 3], [2, 2, 0, 1, 3], [3, 1, 3, 1, 2], [3, 2, 0, 0, 2], [2, 1, 0, 1, 3], [3, 1, 1, 0, 3], [3, 2, 0, 0, 1], [2, 0, 3, 2, 1], [3, 1, 2, 1, 2], [2, 3, 1, 1, 1], [4, 1, 3, 2, 0], [3, 1, 0, 1, 2], [2, 0, 0, 1, 3], [3, 1, 2, 1, 4], [2, 1, 2, 3, 1], [4, 3, 2, 2, 3], [2, 2, 0, 3, 1], [3, 4, 2, 2, 2], [2, 1, 1, 3, 0], [2, 2, 2, 1, 3], [3, 3, 4, 2, 4], [2, 2, 1, 1, 3], [2, 1, 1, 3, 1], [1, 3, 1, 0, 0], [1, 1, 2, 3, 1], [1, 1, 1, 3, 0], [1, 2, 2, 1, 3], [2, 1, 0, 0, 3], [2, 3, 1, 4, 1], [1, 2, 3, 1, 3], [3, 3, 3, 2, 4]]\n",
      "[[2, 3, 2, 4, 2], [4, 2, 2, 1, 4], [2, 1, 1, 1, 4], [4, 1, 3, 2, 0], [3, 1, 2, 1, 4], [4, 3, 2, 2, 3], [3, 4, 2, 2, 2], [3, 3, 4, 2, 4], [2, 2, 1, 1, 4], [2, 3, 1, 4, 1], [3, 3, 3, 2, 4]]\n"
     ]
    },
    {
     "data": {
      "text/plain": [
       "{0: (np.float64(1.2112676056338025),\n",
       "  np.float64(0.13410157310854953),\n",
       "  np.float64(0.7914762251830313)),\n",
       " 1: (np.float64(1.3975903614457832),\n",
       "  np.float64(0.27392765471141256),\n",
       "  np.float64(0.8885241497712741)),\n",
       " 2: (np.float64(1.9094339622641512),\n",
       "  np.float64(0.16097805915181174),\n",
       "  np.float64(0.9232908458797633)),\n",
       " 3: (np.float64(2.3176470588235296),\n",
       "  np.float64(0.039857817681598684),\n",
       "  np.float64(0.9364221335450511)),\n",
       " 4: (np.float64(2.6181818181818186),\n",
       "  np.float64(-0.03568711339663011),\n",
       "  np.float64(0.9293400953820105))}"
      ]
     },
     "execution_count": 75,
     "metadata": {},
     "output_type": "execute_result"
    }
   ],
   "source": [
    "agreement_pools = {}\n",
    "for i in range(R):\n",
    "    pool = [scores for scores in data[\"all\"] if i in scores]\n",
    "    agreement_pools[i] = (Mean_Squared_Diff(pool), K_alpha(pool), norm_entropy(pool))\n",
    "    print(pool)\n",
    "\n",
    "agreement_pools"
   ]
  },
  {
   "cell_type": "code",
   "execution_count": null,
   "id": "dbd4b546",
   "metadata": {},
   "outputs": [
    {
     "data": {
      "image/png": "[encoded data removed]",
      "text/plain": [
       "<Figure size 800x500 with 1 Axes>"
      ]
     },
     "metadata": {},
     "output_type": "display_data"
    }
   ],
   "source": [
    "import matplotlib.pyplot as plt\n",
    "import seaborn as sns\n",
    "\n",
    "sns.set(style=\"whitegrid\")\n",
    "\n",
    "\n",
    "bins = [x - 0.5 for x in range(7)]\n",
    "\n",
    "# Plot\n",
    "plt.figure(figsize=(8, 5))\n",
    "plt.hist(all_scores, bins=bins, edgecolor='black', color='skyblue', rwidth=0.9)\n",
    "\n",
    "# Customize axes\n",
    "plt.xticks(range(5)) \n",
    "plt.xlabel('Annotation Score')\n",
    "plt.ylabel('Frequency')\n",
    "\n",
    "# Clean layout\n",
    "plt.tight_layout()\n",
    "plt.show()"
   ]
  }
 ],
 "metadata": {
  "kernelspec": {
   "display_name": "FP25",
   "language": "python",
   "name": "python3"
  },
  "language_info": {
   "codemirror_mode": {
    "name": "ipython",
    "version": 3
   },
   "file_extension": ".py",
   "mimetype": "text/x-python",
   "name": "python",
   "nbconvert_exporter": "python",
   "pygments_lexer": "ipython3",
   "version": "3.11.11"
  }
 },
 "nbformat": 4,
 "nbformat_minor": 5
}
