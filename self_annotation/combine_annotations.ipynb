{
 "cells": [
  {
   "cell_type": "code",
   "execution_count": null,
   "id": "b0d98acb",
   "metadata": {},
   "outputs": [
    {
     "ename": "TypeError",
     "evalue": "unsupported operand type(s) for +: 'method' and 'list'",
     "output_type": "error",
     "traceback": [
      "\u001b[31m---------------------------------------------------------------------------\u001b[39m",
      "\u001b[31mTypeError\u001b[39m                                 Traceback (most recent call last)",
      "\u001b[36mCell\u001b[39m\u001b[36m \u001b[39m\u001b[32mIn[20]\u001b[39m\u001b[32m, line 13\u001b[39m\n\u001b[32m     10\u001b[39m df_mikkel = pd.read_json(\u001b[33m\"\u001b[39m\u001b[33mannotations_mikkel.json\u001b[39m\u001b[33m\"\u001b[39m)\n\u001b[32m     11\u001b[39m df_david = pd.read_json(\u001b[33m\"\u001b[39m\u001b[33mannotations_david.json\u001b[39m\u001b[33m\"\u001b[39m)\n\u001b[32m---> \u001b[39m\u001b[32m13\u001b[39m df[\u001b[33m\"\u001b[39m\u001b[33mall_labels\u001b[39m\u001b[33m\"\u001b[39m] = [\u001b[43mdf\u001b[49m\u001b[43m[\u001b[49m\u001b[33;43m\"\u001b[39;49m\u001b[33;43meducational_value_labels\u001b[39;49m\u001b[33;43m\"\u001b[39;49m\u001b[43m]\u001b[49m\u001b[43m.\u001b[49m\u001b[43mto_list\u001b[49m\u001b[43m \u001b[49m\u001b[43m+\u001b[49m\u001b[43m \u001b[49m\u001b[43m[\u001b[49m\u001b[43mdf_mikkel\u001b[49m\u001b[43m[\u001b[49m\u001b[33;43m\"\u001b[39;49m\u001b[33;43mour_label\u001b[39;49m\u001b[33;43m\"\u001b[39;49m\u001b[43m]\u001b[49m\u001b[43m.\u001b[49m\u001b[43mastype\u001b[49m\u001b[43m(\u001b[49m\u001b[38;5;28;43mstr\u001b[39;49m\u001b[43m)\u001b[49m\u001b[43m,\u001b[49m\u001b[43m \u001b[49m\u001b[43mdf_david\u001b[49m\u001b[43m[\u001b[49m\u001b[33;43m\"\u001b[39;49m\u001b[33;43mour_label\u001b[39;49m\u001b[33;43m\"\u001b[39;49m\u001b[43m]\u001b[49m\u001b[43m.\u001b[49m\u001b[43mastype\u001b[49m\u001b[43m(\u001b[49m\u001b[38;5;28;43mstr\u001b[39;49m\u001b[43m)\u001b[49m\u001b[43m]\u001b[49m]\n",
      "\u001b[31mTypeError\u001b[39m: unsupported operand type(s) for +: 'method' and 'list'"
     ]
    }
   ],
   "source": [
    "import numpy as np\n",
    "import pandas as pd\n",
    "import re\n",
    "\n",
    "df = pd.read_csv(\"data_to_annotate.csv\")\n",
    "df[\"educational_value_labels\"] = df[\"educational_value_labels\"].apply(\n",
    "    lambda x: re.findall(r\"'(.*?)'\", x)\n",
    ")\n",
    "\n",
    "df_mikkel = pd.read_json(\"annotations_mikkel.json\")\n",
    "df_david = pd.read_json(\"annotations_david.json\")"
   ]
  },
  {
   "cell_type": "code",
   "execution_count": 21,
   "id": "98a97b14",
   "metadata": {},
   "outputs": [],
   "source": [
    "df[\"all_labels\"] = list(zip(\n",
    "    df[\"educational_value_labels\"],\n",
    "    df_mikkel[\"our_label\"].astype(str),\n",
    "    df_david[\"our_label\"].astype(str)\n",
    "))\n",
    "\n",
    "# Now flatten to a single list per row:\n",
    "df[\"all_labels\"] = df[\"all_labels\"].apply(lambda x: x[0] + [x[1], x[2]])"
   ]
  },
  {
   "cell_type": "code",
   "execution_count": 23,
   "id": "c951bdef",
   "metadata": {},
   "outputs": [],
   "source": [
    "num_encoder = {'None': 0,\n",
    "               'Minimal': 1,\n",
    "               'Basic': 2,\n",
    "               'Good': 3,\n",
    "               'Excellent': 4}\n",
    "\n",
    "def to_scores(labels):\n",
    "    scores = [num_encoder[label] for label in labels]\n",
    "    return scores\n",
    "\n",
    "df[\"all_scores\"] = df[\"all_labels\"].apply(to_scores)"
   ]
  },
  {
   "cell_type": "code",
   "execution_count": 28,
   "id": "8e0a484b",
   "metadata": {},
   "outputs": [],
   "source": [
    "def average(all_scores):\n",
    "    return int(round(sum(all_scores) / len(all_scores)))\n",
    "\n",
    "df[\"int_score\"] = df[\"all_scores\"].apply(average)"
   ]
  },
  {
   "cell_type": "code",
   "execution_count": 31,
   "id": "cbb56134",
   "metadata": {},
   "outputs": [],
   "source": [
    "df.to_csv(\"test_uCarl.csv\", index=False)"
   ]
  }
 ],
 "metadata": {
  "kernelspec": {
   "display_name": "FP25",
   "language": "python",
   "name": "python3"
  },
  "language_info": {
   "codemirror_mode": {
    "name": "ipython",
    "version": 3
   },
   "file_extension": ".py",
   "mimetype": "text/x-python",
   "name": "python",
   "nbconvert_exporter": "python",
   "pygments_lexer": "ipython3",
   "version": "3.11.11"
  }
 },
 "nbformat": 4,
 "nbformat_minor": 5
}
