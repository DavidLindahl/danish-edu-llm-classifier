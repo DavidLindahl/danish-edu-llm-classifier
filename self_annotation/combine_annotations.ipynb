{
 "cells": [
  {
   "cell_type": "code",
   "execution_count": 45,
   "id": "b0d98acb",
   "metadata": {},
   "outputs": [],
   "source": [
    "import numpy as np\n",
    "import pandas as pd\n",
    "import re\n",
    "\n",
    "df = pd.read_csv(\"data_to_annotate.csv\")\n",
    "df[\"educational_value_labels\"] = df[\"educational_value_labels\"].apply(\n",
    "    lambda x: re.findall(r\"'(.*?)'\", x)\n",
    ")\n",
    "\n",
    "df_carl = pd.read_json(\"annotations_carl.json\")\n",
    "df_mikkel = pd.read_json(\"annotations_mikkel.json\")\n",
    "df_david = pd.read_json(\"annotations_david.json\")\n"
   ]
  },
  {
   "cell_type": "code",
   "execution_count": 46,
   "id": "98a97b14",
   "metadata": {},
   "outputs": [],
   "source": [
    "df[\"all_labels\"] = list(zip(\n",
    "    df[\"educational_value_labels\"],\n",
    "    df_carl[\"our_label\"].astype(str),\n",
    "    df_mikkel[\"our_label\"].astype(str),\n",
    "    df_david[\"our_label\"].astype(str)\n",
    "))\n",
    "\n",
    "# Now flatten to a single list per row:\n",
    "df[\"all_labels\"] = df[\"all_labels\"].apply(lambda x: [x[1], x[2], x[3]] + x[0])"
   ]
  },
  {
   "cell_type": "code",
   "execution_count": 47,
   "id": "c951bdef",
   "metadata": {},
   "outputs": [],
   "source": [
    "num_encoder = {'None': 0,\n",
    "               'Minimal': 1,\n",
    "               'Basic': 2,\n",
    "               'Good': 3,\n",
    "               'Excellent': 4}\n",
    "\n",
    "def to_scores(labels):\n",
    "    scores = [num_encoder[label] for label in labels]\n",
    "    return scores\n",
    "\n",
    "df[\"all_scores\"] = df[\"all_labels\"].apply(to_scores)"
   ]
  },
  {
   "cell_type": "code",
   "execution_count": 48,
   "id": "8e0a484b",
   "metadata": {},
   "outputs": [],
   "source": [
    "def average(all_scores):\n",
    "    return int(round(sum(all_scores) / len(all_scores)))\n",
    "\n",
    "df[\"int_score\"] = df[\"all_scores\"].apply(average)"
   ]
  },
  {
   "cell_type": "code",
   "execution_count": 49,
   "id": "cbb56134",
   "metadata": {},
   "outputs": [],
   "source": [
    "df.to_csv(\"test_final.csv\", index=False)"
   ]
  }
 ],
 "metadata": {
  "kernelspec": {
   "display_name": "FP25",
   "language": "python",
   "name": "python3"
  },
  "language_info": {
   "codemirror_mode": {
    "name": "ipython",
    "version": 3
   },
   "file_extension": ".py",
   "mimetype": "text/x-python",
   "name": "python",
   "nbconvert_exporter": "python",
   "pygments_lexer": "ipython3",
   "version": "3.11.11"
  }
 },
 "nbformat": 4,
 "nbformat_minor": 5
}
